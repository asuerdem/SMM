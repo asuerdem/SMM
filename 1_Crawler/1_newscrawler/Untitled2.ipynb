{
 "cells": [
  {
   "cell_type": "code",
   "execution_count": 2,
   "metadata": {},
   "outputs": [
    {
     "name": "stdout",
     "output_type": "stream",
     "text": [
      "Traceback (most recent call last):\r\n",
      "  File \"/home/monsci/.local/bin/scrapy\", line 11, in <module>\r\n",
      "    sys.exit(execute())\r\n",
      "  File \"/home/monsci/.local/lib/python3.5/site-packages/scrapy/cmdline.py\", line 148, in execute\r\n",
      "    cmd.crawler_process = CrawlerProcess(settings)\r\n",
      "  File \"/home/monsci/.local/lib/python3.5/site-packages/scrapy/crawler.py\", line 243, in __init__\r\n",
      "    super(CrawlerProcess, self).__init__(settings)\r\n",
      "  File \"/home/monsci/.local/lib/python3.5/site-packages/scrapy/crawler.py\", line 134, in __init__\r\n",
      "    self.spider_loader = _get_spider_loader(settings)\r\n",
      "  File \"/home/monsci/.local/lib/python3.5/site-packages/scrapy/crawler.py\", line 330, in _get_spider_loader\r\n",
      "    return loader_cls.from_settings(settings.frozencopy())\r\n",
      "  File \"/home/monsci/.local/lib/python3.5/site-packages/scrapy/spiderloader.py\", line 61, in from_settings\r\n",
      "    return cls(settings)\r\n",
      "  File \"/home/monsci/.local/lib/python3.5/site-packages/scrapy/spiderloader.py\", line 25, in __init__\r\n",
      "    self._load_all_spiders()\r\n",
      "  File \"/home/monsci/.local/lib/python3.5/site-packages/scrapy/spiderloader.py\", line 47, in _load_all_spiders\r\n",
      "    for module in walk_modules(name):\r\n",
      "  File \"/home/monsci/.local/lib/python3.5/site-packages/scrapy/utils/misc.py\", line 71, in walk_modules\r\n",
      "    submod = import_module(fullpath)\r\n",
      "  File \"/usr/lib/python3.5/importlib/__init__.py\", line 126, in import_module\r\n",
      "    return _bootstrap._gcd_import(name[level:], package, level)\r\n",
      "  File \"<frozen importlib._bootstrap>\", line 986, in _gcd_import\r\n",
      "  File \"<frozen importlib._bootstrap>\", line 969, in _find_and_load\r\n",
      "  File \"<frozen importlib._bootstrap>\", line 958, in _find_and_load_unlocked\r\n",
      "  File \"<frozen importlib._bootstrap>\", line 673, in _load_unlocked\r\n",
      "  File \"<frozen importlib._bootstrap_external>\", line 665, in exec_module\r\n",
      "  File \"<frozen importlib._bootstrap>\", line 222, in _call_with_frames_removed\r\n",
      "  File \"/home/monsci/Documents/SMM/1_Crawler/1_newscrawler/newscrawler/spiders/cumhuriyet.py\", line 6, in <module>\r\n",
      "    import pandas as pd\r\n",
      "ImportError: No module named 'pandas'\r\n"
     ]
    }
   ],
   "source": [
    "!scrapy crawl independent "
   ]
  }
 ],
 "metadata": {
  "kernelspec": {
   "display_name": "Python 2",
   "language": "python",
   "name": "python2"
  },
  "language_info": {
   "codemirror_mode": {
    "name": "ipython",
    "version": 2
   },
   "file_extension": ".py",
   "mimetype": "text/x-python",
   "name": "python",
   "nbconvert_exporter": "python",
   "pygments_lexer": "ipython2",
   "version": "2.7.12"
  }
 },
 "nbformat": 4,
 "nbformat_minor": 2
}
