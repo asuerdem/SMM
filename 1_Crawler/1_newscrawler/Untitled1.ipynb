{
 "cells": [
  {
   "cell_type": "code",
   "execution_count": 1,
   "metadata": {},
   "outputs": [
    {
     "name": "stdout",
     "output_type": "stream",
     "text": [
      "[sudo] password for monsci: \n",
      "\n"
     ]
    }
   ],
   "source": [
    "!sudo pip install pandas"
   ]
  },
  {
   "cell_type": "code",
   "execution_count": 2,
   "metadata": {},
   "outputs": [
    {
     "ename": "NameError",
     "evalue": "name 'erikli' is not defined",
     "output_type": "error",
     "traceback": [
      "\u001b[0;31m---------------------------------------------------------------------------\u001b[0m",
      "\u001b[0;31mNameError\u001b[0m                                 Traceback (most recent call last)",
      "\u001b[0;32m<ipython-input-2-d015705e9d8a>\u001b[0m in \u001b[0;36m<module>\u001b[0;34m()\u001b[0m\n\u001b[0;32m----> 1\u001b[0;31m \u001b[0merikli\u001b[0m\u001b[0;34m\u001b[0m\u001b[0m\n\u001b[0m",
      "\u001b[0;31mNameError\u001b[0m: name 'erikli' is not defined"
     ]
    }
   ],
   "source": [
    "erikli"
   ]
  },
  {
   "cell_type": "code",
   "execution_count": 3,
   "metadata": {
    "collapsed": true
   },
   "outputs": [],
   "source": [
    "import pandas"
   ]
  },
  {
   "cell_type": "code",
   "execution_count": 4,
   "metadata": {},
   "outputs": [
    {
     "name": "stdout",
     "output_type": "stream",
     "text": [
      "Packing version 2c10f03-master\n",
      "Deploying to Scrapy Cloud project \"255156\"\n",
      "Deploy log last 30 lines:\n",
      "    _get_apisettings, commands_module='sh_scrapy.commands')\n",
      "  File \"/usr/local/lib/python2.7/site-packages/sh_scrapy/crawl.py\", line 148, in _run_usercode\n",
      "    _run(args, settings)\n",
      "  File \"/usr/local/lib/python2.7/site-packages/sh_scrapy/crawl.py\", line 103, in _run\n",
      "    _run_scrapy(args, settings)\n",
      "  File \"/usr/local/lib/python2.7/site-packages/sh_scrapy/crawl.py\", line 111, in _run_scrapy\n",
      "    execute(settings=settings)\n",
      "  File \"/usr/local/lib/python2.7/site-packages/scrapy/cmdline.py\", line 148, in execute\n",
      "    cmd.crawler_process = CrawlerProcess(settings)\n",
      "  File \"/usr/local/lib/python2.7/site-packages/scrapy/crawler.py\", line 243, in __init__\n",
      "    super(CrawlerProcess, self).__init__(settings)\n",
      "  File \"/usr/local/lib/python2.7/site-packages/scrapy/crawler.py\", line 134, in __init__\n",
      "    self.spider_loader = _get_spider_loader(settings)\n",
      "  File \"/usr/local/lib/python2.7/site-packages/scrapy/crawler.py\", line 330, in _get_spider_loader\n",
      "    return loader_cls.from_settings(settings.frozencopy())\n",
      "  File \"/usr/local/lib/python2.7/site-packages/scrapy/spiderloader.py\", line 61, in from_settings\n",
      "    return cls(settings)\n",
      "  File \"/usr/local/lib/python2.7/site-packages/scrapy/spiderloader.py\", line 25, in __init__\n",
      "    self._load_all_spiders()\n",
      "  File \"/usr/local/lib/python2.7/site-packages/scrapy/spiderloader.py\", line 47, in _load_all_spiders\n",
      "    for module in walk_modules(name):\n",
      "  File \"/usr/local/lib/python2.7/site-packages/scrapy/utils/misc.py\", line 71, in walk_modules\n",
      "    submod = import_module(fullpath)\n",
      "  File \"/usr/local/lib/python2.7/importlib/__init__.py\", line 37, in import_module\n",
      "    __import__(name)\n",
      "  File \"build/bdist.linux-x86_64/egg/newscrawler/spiders/cumhuriyet.py\", line 6, in <module>\n",
      "ImportError: No module named pandas\n",
      "{\"message\": \"shub-image-info exit code: 1\", \"details\": null, \"error\": \"image_info_error\"}\n",
      "\n",
      "{\"message\": \"Internal error\", \"status\": \"error\"}\n",
      "Deploy log location: /tmp/shub_deploy_nxYzL7.log\n",
      "Error: Deploy failed: {\"message\": \"Internal error\", \"status\": \"error\"}\n"
     ]
    }
   ],
   "source": [
    "!shub deploy"
   ]
  },
  {
   "cell_type": "code",
   "execution_count": null,
   "metadata": {
    "collapsed": true
   },
   "outputs": [],
   "source": []
  }
 ],
 "metadata": {
  "kernelspec": {
   "display_name": "Python 2",
   "language": "python",
   "name": "python2"
  },
  "language_info": {
   "codemirror_mode": {
    "name": "ipython",
    "version": 2
   },
   "file_extension": ".py",
   "mimetype": "text/x-python",
   "name": "python",
   "nbconvert_exporter": "python",
   "pygments_lexer": "ipython2",
   "version": "2.7.12"
  }
 },
 "nbformat": 4,
 "nbformat_minor": 2
}
