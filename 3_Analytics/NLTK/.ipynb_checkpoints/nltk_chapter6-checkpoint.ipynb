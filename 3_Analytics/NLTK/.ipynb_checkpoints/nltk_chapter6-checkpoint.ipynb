{
 "cells": [
  {
   "cell_type": "code",
   "execution_count": 19,
   "metadata": {},
   "outputs": [],
   "source": [
    "import nltk,random\n",
    "def gender_features(word):\n",
    "    return {'last_letter': word[-1]}"
   ]
  },
  {
   "cell_type": "code",
   "execution_count": 20,
   "metadata": {},
   "outputs": [
    {
     "data": {
      "text/plain": [
       "{'last_letter': 'k'}"
      ]
     },
     "execution_count": 20,
     "metadata": {},
     "output_type": "execute_result"
    }
   ],
   "source": [
    "gender_features('Shrek')"
   ]
  },
  {
   "cell_type": "code",
   "execution_count": 21,
   "metadata": {},
   "outputs": [],
   "source": [
    "from nltk.corpus import names\n",
    "labeled_names = ([(name, 'male') for name in names.words('male.txt')] + [(name, 'female') for name in names.words('female.txt')])"
   ]
  },
  {
   "cell_type": "code",
   "execution_count": 22,
   "metadata": {},
   "outputs": [
    {
     "data": {
      "text/plain": [
       "7944"
      ]
     },
     "execution_count": 22,
     "metadata": {},
     "output_type": "execute_result"
    }
   ],
   "source": [
    "len(featuresets)"
   ]
  },
  {
   "cell_type": "code",
   "execution_count": 23,
   "metadata": {},
   "outputs": [
    {
     "name": "stdout",
     "output_type": "stream",
     "text": [
      "6355\n",
      "1589\n"
     ]
    }
   ],
   "source": [
    "from sklearn.model_selection import train_test_split\n",
    "train_set, test_set = train_test_split(featuresets, shuffle=True,test_size=.2)\n",
    "print(len(train_set))\n",
    "print(len(test_set))\n"
   ]
  },
  {
   "cell_type": "code",
   "execution_count": 24,
   "metadata": {},
   "outputs": [
    {
     "name": "stdout",
     "output_type": "stream",
     "text": [
      "0.7853996224040277\n"
     ]
    }
   ],
   "source": [
    "classifier = nltk.NaiveBayesClassifier.train(train_set)\n",
    "print(nltk.classify.accuracy(classifier, test_set))"
   ]
  },
  {
   "cell_type": "code",
   "execution_count": 25,
   "metadata": {},
   "outputs": [
    {
     "name": "stdout",
     "output_type": "stream",
     "text": [
      "male\n",
      "female\n"
     ]
    }
   ],
   "source": [
    "print(classifier.classify(gender_features('Neo')))\n",
    "print(classifier.classify(gender_features('Trinity')))"
   ]
  },
  {
   "cell_type": "code",
   "execution_count": 26,
   "metadata": {},
   "outputs": [
    {
     "name": "stdout",
     "output_type": "stream",
     "text": [
      "Most Informative Features\n",
      "             last_letter = 'a'            female : male   =     33.1 : 1.0\n",
      "             last_letter = 'k'              male : female =     26.1 : 1.0\n",
      "             last_letter = 'f'              male : female =     21.8 : 1.0\n",
      "             last_letter = 'p'              male : female =     15.1 : 1.0\n",
      "             last_letter = 'm'              male : female =      9.5 : 1.0\n"
     ]
    }
   ],
   "source": [
    "classifier.show_most_informative_features(5)"
   ]
  },
  {
   "cell_type": "code",
   "execution_count": 28,
   "metadata": {},
   "outputs": [],
   "source": [
    "from nltk.classify import apply_features\n",
    "train_set, test_set = train_test_split(labeled_names, shuffle=True,test_size=.2)\n",
    "train_set = apply_features(gender_features, train_set)\n",
    "test_set = apply_features(gender_features, test_set)"
   ]
  },
  {
   "cell_type": "markdown",
   "metadata": {},
   "source": [
    "# 1.2. Choosing the Right Features"
   ]
  },
  {
   "cell_type": "code",
   "execution_count": 29,
   "metadata": {},
   "outputs": [],
   "source": [
    "def gender_features2(name):\n",
    "    features = {}\n",
    "    features[\"first_letter\"] = name[0].lower()\n",
    "    features[\"last_letter\"] = name[-1].lower()\n",
    "    for letter in 'abcdefghijklmnopqrstuvwxyz':\n",
    "        features[\"count({})\".format(letter)] = name.lower().count(letter)\n",
    "        features[\"has({})\".format(letter)] = (letter in name.lower())\n",
    "    return features"
   ]
  },
  {
   "cell_type": "code",
   "execution_count": 30,
   "metadata": {},
   "outputs": [
    {
     "data": {
      "text/plain": [
       "{'count(a)': 0,\n",
       " 'count(b)': 0,\n",
       " 'count(c)': 0,\n",
       " 'count(d)': 0,\n",
       " 'count(e)': 0,\n",
       " 'count(f)': 0,\n",
       " 'count(g)': 0,\n",
       " 'count(h)': 1,\n",
       " 'count(i)': 0,\n",
       " 'count(j)': 1,\n",
       " 'count(k)': 0,\n",
       " 'count(l)': 0,\n",
       " 'count(m)': 0,\n",
       " 'count(n)': 1,\n",
       " 'count(o)': 1,\n",
       " 'count(p)': 0,\n",
       " 'count(q)': 0,\n",
       " 'count(r)': 0,\n",
       " 'count(s)': 0,\n",
       " 'count(t)': 0,\n",
       " 'count(u)': 0,\n",
       " 'count(v)': 0,\n",
       " 'count(w)': 0,\n",
       " 'count(x)': 0,\n",
       " 'count(y)': 0,\n",
       " 'count(z)': 0,\n",
       " 'first_letter': 'j',\n",
       " 'has(a)': False,\n",
       " 'has(b)': False,\n",
       " 'has(c)': False,\n",
       " 'has(d)': False,\n",
       " 'has(e)': False,\n",
       " 'has(f)': False,\n",
       " 'has(g)': False,\n",
       " 'has(h)': True,\n",
       " 'has(i)': False,\n",
       " 'has(j)': True,\n",
       " 'has(k)': False,\n",
       " 'has(l)': False,\n",
       " 'has(m)': False,\n",
       " 'has(n)': True,\n",
       " 'has(o)': True,\n",
       " 'has(p)': False,\n",
       " 'has(q)': False,\n",
       " 'has(r)': False,\n",
       " 'has(s)': False,\n",
       " 'has(t)': False,\n",
       " 'has(u)': False,\n",
       " 'has(v)': False,\n",
       " 'has(w)': False,\n",
       " 'has(x)': False,\n",
       " 'has(y)': False,\n",
       " 'has(z)': False,\n",
       " 'last_letter': 'n'}"
      ]
     },
     "execution_count": 30,
     "metadata": {},
     "output_type": "execute_result"
    }
   ],
   "source": [
    "gender_features2('John') "
   ]
  },
  {
   "cell_type": "code",
   "execution_count": 32,
   "metadata": {},
   "outputs": [
    {
     "name": "stdout",
     "output_type": "stream",
     "text": [
      "0.7747010698552549\n"
     ]
    }
   ],
   "source": [
    "featuresets = [(gender_features2(n), gender) for (n, gender) in labeled_names]\n",
    "train_set, test_set = train_test_split(featuresets, shuffle=True,test_size=.2)\n",
    "classifier = nltk.NaiveBayesClassifier.train(train_set)\n",
    "print(nltk.classify.accuracy(classifier, test_set))"
   ]
  },
  {
   "cell_type": "code",
   "execution_count": 35,
   "metadata": {},
   "outputs": [],
   "source": [
    "train_names, test_names = train_test_split(labeled_names, shuffle=True,test_size=.3)\n",
    "devtest_names, test_names = train_test_split(test_names, shuffle=True,test_size=.3333)"
   ]
  },
  {
   "cell_type": "code",
   "execution_count": 36,
   "metadata": {},
   "outputs": [
    {
     "name": "stdout",
     "output_type": "stream",
     "text": [
      "5560\n",
      "1589\n",
      "795\n"
     ]
    },
    {
     "data": {
      "text/plain": [
       "[None, None, None]"
      ]
     },
     "execution_count": 36,
     "metadata": {},
     "output_type": "execute_result"
    }
   ],
   "source": [
    "[print(len(s)) for s in [train_names,devtest_names,test_names]]"
   ]
  },
  {
   "cell_type": "code",
   "execution_count": 38,
   "metadata": {},
   "outputs": [
    {
     "name": "stdout",
     "output_type": "stream",
     "text": [
      "0.7728130899937067\n"
     ]
    }
   ],
   "source": [
    "train_set = [(gender_features(n), gender) for (n, gender) in train_names]\n",
    "devtest_set = [(gender_features(n), gender) for (n, gender) in devtest_names]\n",
    "test_set = [(gender_features(n), gender) for (n, gender) in test_names]\n",
    "classifier = nltk.NaiveBayesClassifier.train(train_set)\n",
    "print(nltk.classify.accuracy(classifier, devtest_set))"
   ]
  },
  {
   "cell_type": "code",
   "execution_count": 39,
   "metadata": {},
   "outputs": [],
   "source": [
    "errors = []\n",
    "for (name, tag) in devtest_names:\n",
    "     guess = classifier.classify(gender_features(name))\n",
    "     if guess != tag:\n",
    "         errors.append( (tag, guess, name) )"
   ]
  },
  {
   "cell_type": "code",
   "execution_count": 40,
   "metadata": {},
   "outputs": [
    {
     "name": "stdout",
     "output_type": "stream",
     "text": [
      "correct=female   guess=male     name=Aileen                        \n",
      "correct=female   guess=male     name=Alison                        \n",
      "correct=female   guess=male     name=Alisun                        \n",
      "correct=female   guess=male     name=Allys                         \n",
      "correct=female   guess=male     name=Amargo                        \n",
      "correct=female   guess=male     name=Arden                         \n",
      "correct=female   guess=male     name=Ardis                         \n",
      "correct=female   guess=male     name=Ashlen                        \n",
      "correct=female   guess=male     name=Astrid                        \n",
      "correct=female   guess=male     name=Beau                          \n",
      "correct=female   guess=male     name=Bess                          \n",
      "correct=female   guess=male     name=Bev                           \n",
      "correct=female   guess=male     name=Blair                         \n",
      "correct=female   guess=male     name=Brandais                      \n",
      "correct=female   guess=male     name=Bridgett                      \n",
      "correct=female   guess=male     name=Brier                         \n",
      "correct=female   guess=male     name=Brit                          \n",
      "correct=female   guess=male     name=Brook                         \n",
      "correct=female   guess=male     name=Brynn                         \n",
      "correct=female   guess=male     name=Cam                           \n",
      "correct=female   guess=male     name=Caren                         \n",
      "correct=female   guess=male     name=Carolin                       \n",
      "correct=female   guess=male     name=Carolyn                       \n",
      "correct=female   guess=male     name=Caron                         \n",
      "correct=female   guess=male     name=Catherin                      \n",
      "correct=female   guess=male     name=Cathryn                       \n",
      "correct=female   guess=male     name=Charis                        \n",
      "correct=female   guess=male     name=Charleen                      \n",
      "correct=female   guess=male     name=Charlott                      \n",
      "correct=female   guess=male     name=Charo                         \n",
      "correct=female   guess=male     name=Cherilyn                      \n",
      "correct=female   guess=male     name=Chris                         \n",
      "correct=female   guess=male     name=Christan                      \n",
      "correct=female   guess=male     name=Cindelyn                      \n",
      "correct=female   guess=male     name=Cinnamon                      \n",
      "correct=female   guess=male     name=Clair                         \n",
      "correct=female   guess=male     name=Clovis                        \n",
      "correct=female   guess=male     name=Darb                          \n",
      "correct=female   guess=male     name=Daryn                         \n",
      "correct=female   guess=male     name=Daveen                        \n",
      "correct=female   guess=male     name=Devon                         \n",
      "correct=female   guess=male     name=Dorit                         \n",
      "correct=female   guess=male     name=Doro                          \n",
      "correct=female   guess=male     name=Dot                           \n",
      "correct=female   guess=male     name=Ealasaid                      \n",
      "correct=female   guess=male     name=Eileen                        \n",
      "correct=female   guess=male     name=Elizabet                      \n",
      "correct=female   guess=male     name=Emlynn                        \n",
      "correct=female   guess=male     name=Enid                          \n",
      "correct=female   guess=male     name=Evelyn                        \n",
      "correct=female   guess=male     name=Fanchon                       \n",
      "correct=female   guess=male     name=Fiann                         \n",
      "correct=female   guess=male     name=Floris                        \n",
      "correct=female   guess=male     name=Fred                          \n",
      "correct=female   guess=male     name=Gayleen                       \n",
      "correct=female   guess=male     name=Gennifer                      \n",
      "correct=female   guess=male     name=Gertrud                       \n",
      "correct=female   guess=male     name=Gretchen                      \n",
      "correct=female   guess=male     name=Gwen                          \n",
      "correct=female   guess=male     name=Gwendolyn                     \n",
      "correct=female   guess=male     name=Harriet                       \n",
      "correct=female   guess=male     name=Harriot                       \n",
      "correct=female   guess=male     name=Hester                        \n",
      "correct=female   guess=male     name=Hildegaard                    \n",
      "correct=female   guess=male     name=Ines                          \n",
      "correct=female   guess=male     name=Ingaborg                      \n",
      "correct=female   guess=male     name=Isis                          \n",
      "correct=female   guess=male     name=Jacklin                       \n",
      "correct=female   guess=male     name=Jaclin                        \n",
      "correct=female   guess=male     name=Janis                         \n",
      "correct=female   guess=male     name=Jean                          \n",
      "correct=female   guess=male     name=Jillian                       \n",
      "correct=female   guess=male     name=Joellyn                       \n",
      "correct=female   guess=male     name=Jordan                        \n",
      "correct=female   guess=male     name=Joslyn                        \n",
      "correct=female   guess=male     name=Jourdan                       \n",
      "correct=female   guess=male     name=Joyann                        \n",
      "correct=female   guess=male     name=Joycelin                      \n",
      "correct=female   guess=male     name=Joyous                        \n",
      "correct=female   guess=male     name=Kameko                        \n",
      "correct=female   guess=male     name=Kara-Lynn                     \n",
      "correct=female   guess=male     name=Karen                         \n",
      "correct=female   guess=male     name=Karleen                       \n",
      "correct=female   guess=male     name=Karon                         \n",
      "correct=female   guess=male     name=Karylin                       \n",
      "correct=female   guess=male     name=Karyn                         \n",
      "correct=female   guess=male     name=Kathryn                       \n",
      "correct=female   guess=male     name=Kellen                        \n",
      "correct=female   guess=male     name=Kellyann                      \n",
      "correct=female   guess=male     name=Keren                         \n",
      "correct=female   guess=male     name=Kirsten                       \n",
      "correct=female   guess=male     name=Kirstin                       \n",
      "correct=female   guess=male     name=Kris                          \n",
      "correct=female   guess=male     name=Kylynn                        \n",
      "correct=female   guess=male     name=Kyrstin                       \n",
      "correct=female   guess=male     name=Lamb                          \n",
      "correct=female   guess=male     name=Lauryn                        \n",
      "correct=female   guess=male     name=LeeAnn                        \n",
      "correct=female   guess=male     name=Lois                          \n",
      "correct=female   guess=male     name=Lou                           \n",
      "correct=female   guess=male     name=Lurleen                       \n",
      "correct=female   guess=male     name=Lynn                          \n",
      "correct=female   guess=male     name=Mairead                       \n",
      "correct=female   guess=male     name=Marget                        \n",
      "correct=female   guess=male     name=Margit                        \n",
      "correct=female   guess=male     name=Marian                        \n",
      "correct=female   guess=male     name=Marieann                      \n",
      "correct=female   guess=male     name=Marilyn                       \n",
      "correct=female   guess=male     name=Marin                         \n",
      "correct=female   guess=male     name=Marion                        \n",
      "correct=female   guess=male     name=Maris                         \n",
      "correct=female   guess=male     name=Marit                         \n",
      "correct=female   guess=male     name=Marj                          \n",
      "correct=female   guess=male     name=Marris                        \n",
      "correct=female   guess=male     name=Maryjo                        \n",
      "correct=female   guess=male     name=Meg                           \n",
      "correct=female   guess=male     name=Mikako                        \n",
      "correct=female   guess=male     name=Miran                         \n",
      "correct=female   guess=male     name=Miriam                        \n",
      "correct=female   guess=male     name=Morgan                        \n",
      "correct=female   guess=male     name=Nadeen                        \n",
      "correct=female   guess=male     name=Nanon                         \n",
      "correct=female   guess=male     name=Olwen                         \n",
      "correct=female   guess=male     name=Phyllys                       \n",
      "correct=female   guess=male     name=Pier                          \n",
      "correct=female   guess=male     name=Quinn                         \n",
      "correct=female   guess=male     name=Regan                         \n",
      "correct=female   guess=male     name=Reiko                         \n",
      "correct=female   guess=male     name=Rhianon                       \n",
      "correct=female   guess=male     name=Rianon                        \n",
      "correct=female   guess=male     name=Robbyn                        \n",
      "correct=female   guess=male     name=Rosamond                      \n",
      "correct=female   guess=male     name=Rosamund                      \n",
      "correct=female   guess=male     name=Roselin                       \n",
      "correct=female   guess=male     name=Roselyn                       \n",
      "correct=female   guess=male     name=Sara-Ann                      \n",
      "correct=female   guess=male     name=Shannon                       \n",
      "correct=female   guess=male     name=Sharon                        \n",
      "correct=female   guess=male     name=Sher                          \n",
      "correct=female   guess=male     name=Starlin                       \n",
      "correct=female   guess=male     name=Storm                         \n",
      "correct=female   guess=male     name=Tatum                         \n",
      "correct=female   guess=male     name=Terri-Jo                      \n",
      "correct=female   guess=male     name=Tess                          \n",
      "correct=female   guess=male     name=Vivian                        \n",
      "correct=female   guess=male     name=Willow                        \n",
      "correct=female   guess=male     name=Wilow                         \n",
      "correct=female   guess=male     name=Yoshiko                       \n",
      "correct=male     guess=female   name=Abdullah                      \n",
      "correct=male     guess=female   name=Abel                          \n",
      "correct=male     guess=female   name=Addie                         \n",
      "correct=male     guess=female   name=Aditya                        \n",
      "correct=male     guess=female   name=Ajai                          \n",
      "correct=male     guess=female   name=Alix                          \n",
      "correct=male     guess=female   name=Alphonse                      \n",
      "correct=male     guess=female   name=Anatoly                       \n",
      "correct=male     guess=female   name=Angel                         \n",
      "correct=male     guess=female   name=Ansel                         \n",
      "correct=male     guess=female   name=Archy                         \n",
      "correct=male     guess=female   name=Ariel                         \n",
      "correct=male     guess=female   name=Averell                       \n",
      "correct=male     guess=female   name=Averill                       \n",
      "correct=male     guess=female   name=Avery                         \n",
      "correct=male     guess=female   name=Barry                         \n",
      "correct=male     guess=female   name=Bartolomei                    \n",
      "correct=male     guess=female   name=Berkley                       \n",
      "correct=male     guess=female   name=Blayne                        \n",
      "correct=male     guess=female   name=Brice                         \n",
      "correct=male     guess=female   name=Brodie                        \n",
      "correct=male     guess=female   name=Brody                         \n",
      "correct=male     guess=female   name=Burl                          \n",
      "correct=male     guess=female   name=Carlyle                       \n",
      "correct=male     guess=female   name=Carroll                       \n",
      "correct=male     guess=female   name=Chaddie                       \n",
      "correct=male     guess=female   name=Chaddy                        \n",
      "correct=male     guess=female   name=Christy                       \n",
      "correct=male     guess=female   name=Clarence                      \n",
      "correct=male     guess=female   name=Connie                        \n",
      "correct=male     guess=female   name=Constantine                   \n",
      "correct=male     guess=female   name=Corrie                        \n",
      "correct=male     guess=female   name=Costa                         \n",
      "correct=male     guess=female   name=Curtice                       \n",
      "correct=male     guess=female   name=Cyrille                       \n",
      "correct=male     guess=female   name=Dana                          \n",
      "correct=male     guess=female   name=Danie                         \n",
      "correct=male     guess=female   name=Darby                         \n",
      "correct=male     guess=female   name=Darcy                         \n",
      "correct=male     guess=female   name=Darryl                        \n",
      "correct=male     guess=female   name=Demetre                       \n",
      "correct=male     guess=female   name=Dewey                         \n",
      "correct=male     guess=female   name=Dickie                        \n",
      "correct=male     guess=female   name=Dryke                         \n",
      "correct=male     guess=female   name=Dudley                        \n",
      "correct=male     guess=female   name=Dwaine                        \n",
      "correct=male     guess=female   name=Dwayne                        \n",
      "correct=male     guess=female   name=Eddie                         \n",
      "correct=male     guess=female   name=Elmore                        \n",
      "correct=male     guess=female   name=Emmanuel                      \n",
      "correct=male     guess=female   name=Etienne                       \n",
      "correct=male     guess=female   name=Eustace                       \n",
      "correct=male     guess=female   name=Ezekiel                       \n",
      "correct=male     guess=female   name=Ezra                          \n",
      "correct=male     guess=female   name=Fairfax                       \n",
      "correct=male     guess=female   name=Fletch                        \n",
      "correct=male     guess=female   name=Freddy                        \n",
      "correct=male     guess=female   name=Gabe                          \n",
      "correct=male     guess=female   name=Gabriel                       \n",
      "correct=male     guess=female   name=Gabriele                      \n",
      "correct=male     guess=female   name=Garfinkel                     \n",
      "correct=male     guess=female   name=Gavriel                       \n",
      "correct=male     guess=female   name=Georgia                       \n",
      "correct=male     guess=female   name=Gere                          \n",
      "correct=male     guess=female   name=Gill                          \n",
      "correct=male     guess=female   name=Giorgi                        \n",
      "correct=male     guess=female   name=Giovanne                      \n",
      "correct=male     guess=female   name=Gordie                        \n",
      "correct=male     guess=female   name=Griffith                      \n",
      "correct=male     guess=female   name=Gustave                       \n",
      "correct=male     guess=female   name=Guthrey                       \n",
      "correct=male     guess=female   name=Hale                          \n",
      "correct=male     guess=female   name=Harry                         \n",
      "correct=male     guess=female   name=Hartwell                      \n",
      "correct=male     guess=female   name=Hazel                         \n",
      "correct=male     guess=female   name=Heinrich                      \n",
      "correct=male     guess=female   name=Henry                         \n",
      "correct=male     guess=female   name=Herbie                        \n",
      "correct=male     guess=female   name=Hewie                         \n",
      "correct=male     guess=female   name=Hezekiah                      \n",
      "correct=male     guess=female   name=Hill                          \n",
      "correct=male     guess=female   name=Ishmael                       \n",
      "correct=male     guess=female   name=Isidore                       \n",
      "correct=male     guess=female   name=Israel                        \n",
      "correct=male     guess=female   name=Jackie                        \n",
      "correct=male     guess=female   name=Jamey                         \n",
      "correct=male     guess=female   name=Jay                           \n",
      "correct=male     guess=female   name=Jean-Paul                     \n",
      "correct=male     guess=female   name=Jeramie                       \n",
      "correct=male     guess=female   name=Jereme                        \n",
      "correct=male     guess=female   name=Jeremie                       \n",
      "correct=male     guess=female   name=Jessie                        \n",
      "correct=male     guess=female   name=Jeth                          \n",
      "correct=male     guess=female   name=Jordy                         \n",
      "correct=male     guess=female   name=Jory                          \n",
      "correct=male     guess=female   name=Joshua                        \n",
      "correct=male     guess=female   name=Joshuah                       \n",
      "correct=male     guess=female   name=Judah                         \n",
      "correct=male     guess=female   name=Jule                          \n",
      "correct=male     guess=female   name=Keene                         \n",
      "correct=male     guess=female   name=Keil                          \n",
      "correct=male     guess=female   name=Kendall                       \n",
      "correct=male     guess=female   name=Kerry                         \n",
      "correct=male     guess=female   name=Kimball                       \n",
      "correct=male     guess=female   name=Klee                          \n",
      "correct=male     guess=female   name=Knox                          \n",
      "correct=male     guess=female   name=Lanny                         \n",
      "correct=male     guess=female   name=Larry                         \n",
      "correct=male     guess=female   name=Lay                           \n",
      "correct=male     guess=female   name=Leroy                         \n",
      "correct=male     guess=female   name=Lindsay                       \n",
      "correct=male     guess=female   name=Linoel                        \n",
      "correct=male     guess=female   name=Lonny                         \n",
      "correct=male     guess=female   name=Luce                          \n",
      "correct=male     guess=female   name=Luke                          \n",
      "correct=male     guess=female   name=Mahesh                        \n",
      "correct=male     guess=female   name=Marcel                        \n",
      "correct=male     guess=female   name=Marietta                      \n",
      "correct=male     guess=female   name=Martie                        \n",
      "correct=male     guess=female   name=Matty                         \n",
      "correct=male     guess=female   name=Merrel                        \n",
      "correct=male     guess=female   name=Michal                        \n",
      "correct=male     guess=female   name=Micheal                       \n",
      "correct=male     guess=female   name=Micheil                       \n",
      "correct=male     guess=female   name=Mikhail                       \n",
      "correct=male     guess=female   name=Mitch                         \n",
      "correct=male     guess=female   name=Morse                         \n",
      "correct=male     guess=female   name=Moshe                         \n",
      "correct=male     guess=female   name=Murdoch                       \n",
      "correct=male     guess=female   name=Murphy                        \n",
      "correct=male     guess=female   name=Natale                        \n",
      "correct=male     guess=female   name=Neall                         \n",
      "correct=male     guess=female   name=Neel                          \n",
      "correct=male     guess=female   name=Nevil                         \n",
      "correct=male     guess=female   name=Neville                       \n",
      "correct=male     guess=female   name=Nickie                        \n",
      "correct=male     guess=female   name=Nigel                         \n",
      "correct=male     guess=female   name=Nikki                         \n",
      "correct=male     guess=female   name=Noe                           \n",
      "correct=male     guess=female   name=Noel                          \n",
      "correct=male     guess=female   name=Odie                          \n",
      "correct=male     guess=female   name=Oswell                        \n",
      "correct=male     guess=female   name=Parsifal                      \n",
      "correct=male     guess=female   name=Peirce                        \n",
      "correct=male     guess=female   name=Penny                         \n",
      "correct=male     guess=female   name=Pete                          \n",
      "correct=male     guess=female   name=Pierre                        \n",
      "correct=male     guess=female   name=Prince                        \n",
      "correct=male     guess=female   name=Purcell                       \n",
      "correct=male     guess=female   name=Quiggly                       \n",
      "correct=male     guess=female   name=Quigly                        \n",
      "correct=male     guess=female   name=Quincy                        \n",
      "correct=male     guess=female   name=Ray                           \n",
      "correct=male     guess=female   name=Reese                         \n",
      "correct=male     guess=female   name=Reggy                         \n",
      "correct=male     guess=female   name=Riley                         \n",
      "correct=male     guess=female   name=Ritch                         \n",
      "correct=male     guess=female   name=Roderich                      \n",
      "correct=male     guess=female   name=Rodolphe                      \n",
      "correct=male     guess=female   name=Rory                          \n",
      "correct=male     guess=female   name=Rustie                        \n",
      "correct=male     guess=female   name=Rusty                         \n",
      "correct=male     guess=female   name=Rutledge                      \n",
      "correct=male     guess=female   name=Sal                           \n",
      "correct=male     guess=female   name=Sammie                        \n",
      "correct=male     guess=female   name=Saundra                       \n",
      "correct=male     guess=female   name=Sax                           \n",
      "correct=male     guess=female   name=Scarface                      \n",
      "correct=male     guess=female   name=Scotty                        \n",
      "correct=male     guess=female   name=Shaine                        \n",
      "correct=male     guess=female   name=Shane                         \n",
      "correct=male     guess=female   name=Shay                          \n",
      "correct=male     guess=female   name=Shorty                        \n",
      "correct=male     guess=female   name=Siffre                        \n",
      "correct=male     guess=female   name=Simone                        \n",
      "correct=male     guess=female   name=Skelly                        \n",
      "correct=male     guess=female   name=Sollie                        \n",
      "correct=male     guess=female   name=Sonny                         \n",
      "correct=male     guess=female   name=Spike                         \n",
      "correct=male     guess=female   name=Stearne                       \n",
      "correct=male     guess=female   name=Stinky                        \n",
      "correct=male     guess=female   name=Sully                         \n",
      "correct=male     guess=female   name=Tammy                         \n",
      "correct=male     guess=female   name=Tanney                        \n",
      "correct=male     guess=female   name=Tannie                        \n",
      "correct=male     guess=female   name=Thayne                        \n",
      "correct=male     guess=female   name=Thorpe                        \n",
      "correct=male     guess=female   name=Timmie                        \n",
      "correct=male     guess=female   name=Tony                          \n",
      "correct=male     guess=female   name=Torey                         \n",
      "correct=male     guess=female   name=Torry                         \n",
      "correct=male     guess=female   name=Trace                         \n",
      "correct=male     guess=female   name=Troy                          \n",
      "correct=male     guess=female   name=Ty                            \n",
      "correct=male     guess=female   name=Valentine                     \n",
      "correct=male     guess=female   name=Vasili                        \n",
      "correct=male     guess=female   name=Vinny                         \n",
      "correct=male     guess=female   name=Virge                         \n",
      "correct=male     guess=female   name=Voltaire                      \n",
      "correct=male     guess=female   name=Wade                          \n",
      "correct=male     guess=female   name=Waine                         \n",
      "correct=male     guess=female   name=Wallace                       \n",
      "correct=male     guess=female   name=Wash                          \n",
      "correct=male     guess=female   name=Wendall                       \n",
      "correct=male     guess=female   name=Winny                         \n",
      "correct=male     guess=female   name=Worth                         \n",
      "correct=male     guess=female   name=Wylie                         \n",
      "correct=male     guess=female   name=Yale                          \n",
      "correct=male     guess=female   name=Yance                         \n",
      "correct=male     guess=female   name=Yancy                         \n",
      "correct=male     guess=female   name=Zachariah                     \n",
      "correct=male     guess=female   name=Zechariah                     \n",
      "correct=male     guess=female   name=Zollie                        \n"
     ]
    }
   ],
   "source": [
    "for (tag, guess, name) in sorted(errors):\n",
    "     print('correct={:<8} guess={:<8s} name={:<30}'.format(tag, guess, name))"
   ]
  },
  {
   "cell_type": "code",
   "execution_count": 41,
   "metadata": {},
   "outputs": [],
   "source": [
    "def gender_features(word):\n",
    "     return {'suffix1': word[-1:],\n",
    "             'suffix2': word[-2:]}"
   ]
  },
  {
   "cell_type": "code",
   "execution_count": 42,
   "metadata": {},
   "outputs": [
    {
     "name": "stdout",
     "output_type": "stream",
     "text": [
      "0.7866582756450597\n"
     ]
    }
   ],
   "source": [
    "train_set = [(gender_features(n), gender) for (n, gender) in train_names]\n",
    "devtest_set = [(gender_features(n), gender) for (n, gender) in devtest_names]\n",
    "classifier = nltk.NaiveBayesClassifier.train(train_set)\n",
    "print(nltk.classify.accuracy(classifier, devtest_set))"
   ]
  },
  {
   "cell_type": "markdown",
   "metadata": {},
   "source": [
    "# 1.3   Document Classification"
   ]
  },
  {
   "cell_type": "code",
   "execution_count": 60,
   "metadata": {},
   "outputs": [],
   "source": [
    "from nltk.corpus import movie_reviews\n",
    "documents = [(list(movie_reviews.words(fileid)), category)\n",
    "              for category in movie_reviews.categories()\n",
    "              for fileid in movie_reviews.fileids(category)]\n",
    "random.shuffle(documents)"
   ]
  },
  {
   "cell_type": "code",
   "execution_count": 61,
   "metadata": {},
   "outputs": [],
   "source": [
    "all_words = nltk.FreqDist(w.lower() for w in movie_reviews.words())\n",
    "word_features = list(all_words)[:2000]\n",
    "\n",
    "def document_features(document):\n",
    "    document_words = set(document)\n",
    "    features = {}\n",
    "    for word in word_features:\n",
    "        features['contains({})'.format(word)] = (word in document_words)\n",
    "    return features"
   ]
  },
  {
   "cell_type": "code",
   "execution_count": 64,
   "metadata": {},
   "outputs": [],
   "source": [
    "featuresets = [(document_features(d), c) for (d,c) in documents]\n",
    "train_set, test_set = train_test_split(featuresets, shuffle=True,test_size=.2)\n",
    "# train_set, test_set = featuresets[100:], featuresets[:100]\n",
    "classifier = nltk.NaiveBayesClassifier.train(train_set)"
   ]
  },
  {
   "cell_type": "code",
   "execution_count": 65,
   "metadata": {},
   "outputs": [
    {
     "name": "stdout",
     "output_type": "stream",
     "text": [
      "0.6675\n",
      "Most Informative Features\n",
      "        contains(stinks) = True              neg : pos    =      8.7 : 1.0\n",
      "     contains(ludicrous) = True              neg : pos    =      7.6 : 1.0\n",
      "      contains(fairness) = True              neg : pos    =      6.6 : 1.0\n",
      "       contains(layered) = True              pos : neg    =      6.0 : 1.0\n",
      "        contains(forgot) = True              neg : pos    =      5.8 : 1.0\n"
     ]
    }
   ],
   "source": [
    "print(nltk.classify.accuracy(classifier, test_set))\n",
    "classifier.show_most_informative_features(5)"
   ]
  },
  {
   "cell_type": "markdown",
   "metadata": {},
   "source": [
    "# 1.4   Part-of-Speech Tagging"
   ]
  },
  {
   "cell_type": "code",
   "execution_count": 67,
   "metadata": {},
   "outputs": [
    {
     "name": "stdout",
     "output_type": "stream",
     "text": [
      "[nltk_data] Downloading package brown to /home/monsci/nltk_data...\n",
      "[nltk_data]   Unzipping corpora/brown.zip.\n"
     ]
    }
   ],
   "source": [
    "from nltk.corpus import brown\n",
    "suffix_fdist = nltk.FreqDist()\n",
    "for word in brown.words():\n",
    "     word = word.lower()\n",
    "     suffix_fdist[word[-1:]] += 1\n",
    "     suffix_fdist[word[-2:]] += 1\n",
    "     suffix_fdist[word[-3:]] += 1"
   ]
  },
  {
   "cell_type": "code",
   "execution_count": 68,
   "metadata": {},
   "outputs": [
    {
     "name": "stdout",
     "output_type": "stream",
     "text": [
      "['e', ',', '.', 's', 'd', 't', 'he', 'n', 'a', 'of', 'the', 'y', 'r', 'to', 'in', 'f', 'o', 'ed', 'nd', 'is', 'on', 'l', 'g', 'and', 'ng', 'er', 'as', 'ing', 'h', 'at', 'es', 'or', 're', 'it', '``', 'an', \"''\", 'm', ';', 'i', 'ly', 'ion', 'en', 'al', '?', 'nt', 'be', 'hat', 'st', 'his', 'th', 'll', 'le', 'ce', 'by', 'ts', 'me', 've', \"'\", 'se', 'ut', 'was', 'for', 'ent', 'ch', 'k', 'w', 'ld', '`', 'rs', 'ted', 'ere', 'her', 'ne', 'ns', 'ith', 'ad', 'ry', ')', '(', 'te', '--', 'ay', 'ty', 'ot', 'p', 'nce', \"'s\", 'ter', 'om', 'ss', ':', 'we', 'are', 'c', 'ers', 'uld', 'had', 'so', 'ey']\n"
     ]
    }
   ],
   "source": [
    "common_suffixes = [suffix for (suffix, count) in suffix_fdist.most_common(100)]\n",
    "print(common_suffixes)"
   ]
  },
  {
   "cell_type": "code",
   "execution_count": 69,
   "metadata": {},
   "outputs": [],
   "source": [
    "def pos_features(word):\n",
    "     features = {}\n",
    "     for suffix in common_suffixes:\n",
    "         features['endswith({})'.format(suffix)] = word.lower().endswith(suffix)\n",
    "     return features"
   ]
  },
  {
   "cell_type": "code",
   "execution_count": 70,
   "metadata": {},
   "outputs": [],
   "source": [
    "tagged_words = brown.tagged_words(categories='news')\n",
    "featuresets = [(pos_features(n), g) for (n,g) in tagged_words]"
   ]
  },
  {
   "cell_type": "code",
   "execution_count": 71,
   "metadata": {},
   "outputs": [],
   "source": [
    "# size = int(len(featuresets) * 0.1)\n",
    "# train_set, test_set = featuresets[size:], featuresets[:size]\n",
    "train_set, test_set = train_test_split(featuresets, shuffle=False,test_size=.1)"
   ]
  },
  {
   "cell_type": "code",
   "execution_count": 73,
   "metadata": {},
   "outputs": [
    {
     "ename": "KeyboardInterrupt",
     "evalue": "",
     "output_type": "error",
     "traceback": [
      "\u001b[0;31m---------------------------------------------------------------------------\u001b[0m",
      "\u001b[0;31mKeyboardInterrupt\u001b[0m                         Traceback (most recent call last)",
      "\u001b[0;32m<ipython-input-73-0c836654950f>\u001b[0m in \u001b[0;36m<module>\u001b[0;34m()\u001b[0m\n\u001b[0;32m----> 1\u001b[0;31m \u001b[0mclassifier\u001b[0m \u001b[0;34m=\u001b[0m \u001b[0mnltk\u001b[0m\u001b[0;34m.\u001b[0m\u001b[0mDecisionTreeClassifier\u001b[0m\u001b[0;34m.\u001b[0m\u001b[0mtrain\u001b[0m\u001b[0;34m(\u001b[0m\u001b[0mtrain_set\u001b[0m\u001b[0;34m)\u001b[0m\u001b[0;34m\u001b[0m\u001b[0m\n\u001b[0m\u001b[1;32m      2\u001b[0m \u001b[0mnltk\u001b[0m\u001b[0;34m.\u001b[0m\u001b[0mclassify\u001b[0m\u001b[0;34m.\u001b[0m\u001b[0maccuracy\u001b[0m\u001b[0;34m(\u001b[0m\u001b[0mclassifier\u001b[0m\u001b[0;34m,\u001b[0m \u001b[0mtest_set\u001b[0m\u001b[0;34m)\u001b[0m\u001b[0;34m\u001b[0m\u001b[0m\n",
      "\u001b[0;32m/usr/local/lib/python3.5/dist-packages/nltk/classify/decisiontree.py\u001b[0m in \u001b[0;36mtrain\u001b[0;34m(labeled_featuresets, entropy_cutoff, depth_cutoff, support_cutoff, binary, feature_values, verbose)\u001b[0m\n\u001b[1;32m    159\u001b[0m         \u001b[0;31m# Refine the stump.\u001b[0m\u001b[0;34m\u001b[0m\u001b[0;34m\u001b[0m\u001b[0m\n\u001b[1;32m    160\u001b[0m         tree.refine(labeled_featuresets, entropy_cutoff, depth_cutoff-1,\n\u001b[0;32m--> 161\u001b[0;31m                     support_cutoff, binary, feature_values, verbose)\n\u001b[0m\u001b[1;32m    162\u001b[0m \u001b[0;34m\u001b[0m\u001b[0m\n\u001b[1;32m    163\u001b[0m         \u001b[0;31m# Return it\u001b[0m\u001b[0;34m\u001b[0m\u001b[0;34m\u001b[0m\u001b[0m\n",
      "\u001b[0;32m/usr/local/lib/python3.5/dist-packages/nltk/classify/decisiontree.py\u001b[0m in \u001b[0;36mrefine\u001b[0;34m(self, labeled_featuresets, entropy_cutoff, depth_cutoff, support_cutoff, binary, feature_values, verbose)\u001b[0m\n\u001b[1;32m    201\u001b[0m                 self._decisions[fval] = DecisionTreeClassifier.train(\n\u001b[1;32m    202\u001b[0m                     \u001b[0mfval_featuresets\u001b[0m\u001b[0;34m,\u001b[0m \u001b[0mentropy_cutoff\u001b[0m\u001b[0;34m,\u001b[0m \u001b[0mdepth_cutoff\u001b[0m\u001b[0;34m,\u001b[0m\u001b[0;34m\u001b[0m\u001b[0m\n\u001b[0;32m--> 203\u001b[0;31m                     support_cutoff, binary, feature_values, verbose)\n\u001b[0m\u001b[1;32m    204\u001b[0m         \u001b[0;32mif\u001b[0m \u001b[0mself\u001b[0m\u001b[0;34m.\u001b[0m\u001b[0m_default\u001b[0m \u001b[0;32mis\u001b[0m \u001b[0;32mnot\u001b[0m \u001b[0;32mNone\u001b[0m\u001b[0;34m:\u001b[0m\u001b[0;34m\u001b[0m\u001b[0m\n\u001b[1;32m    205\u001b[0m             default_featuresets = [(featureset, label) for (featureset, label)\n",
      "\u001b[0;32m/usr/local/lib/python3.5/dist-packages/nltk/classify/decisiontree.py\u001b[0m in \u001b[0;36mtrain\u001b[0;34m(labeled_featuresets, entropy_cutoff, depth_cutoff, support_cutoff, binary, feature_values, verbose)\u001b[0m\n\u001b[1;32m    159\u001b[0m         \u001b[0;31m# Refine the stump.\u001b[0m\u001b[0;34m\u001b[0m\u001b[0;34m\u001b[0m\u001b[0m\n\u001b[1;32m    160\u001b[0m         tree.refine(labeled_featuresets, entropy_cutoff, depth_cutoff-1,\n\u001b[0;32m--> 161\u001b[0;31m                     support_cutoff, binary, feature_values, verbose)\n\u001b[0m\u001b[1;32m    162\u001b[0m \u001b[0;34m\u001b[0m\u001b[0m\n\u001b[1;32m    163\u001b[0m         \u001b[0;31m# Return it\u001b[0m\u001b[0;34m\u001b[0m\u001b[0;34m\u001b[0m\u001b[0m\n",
      "\u001b[0;32m/usr/local/lib/python3.5/dist-packages/nltk/classify/decisiontree.py\u001b[0m in \u001b[0;36mrefine\u001b[0;34m(self, labeled_featuresets, entropy_cutoff, depth_cutoff, support_cutoff, binary, feature_values, verbose)\u001b[0m\n\u001b[1;32m    201\u001b[0m                 self._decisions[fval] = DecisionTreeClassifier.train(\n\u001b[1;32m    202\u001b[0m                     \u001b[0mfval_featuresets\u001b[0m\u001b[0;34m,\u001b[0m \u001b[0mentropy_cutoff\u001b[0m\u001b[0;34m,\u001b[0m \u001b[0mdepth_cutoff\u001b[0m\u001b[0;34m,\u001b[0m\u001b[0;34m\u001b[0m\u001b[0m\n\u001b[0;32m--> 203\u001b[0;31m                     support_cutoff, binary, feature_values, verbose)\n\u001b[0m\u001b[1;32m    204\u001b[0m         \u001b[0;32mif\u001b[0m \u001b[0mself\u001b[0m\u001b[0;34m.\u001b[0m\u001b[0m_default\u001b[0m \u001b[0;32mis\u001b[0m \u001b[0;32mnot\u001b[0m \u001b[0;32mNone\u001b[0m\u001b[0;34m:\u001b[0m\u001b[0;34m\u001b[0m\u001b[0m\n\u001b[1;32m    205\u001b[0m             default_featuresets = [(featureset, label) for (featureset, label)\n",
      "\u001b[0;32m/usr/local/lib/python3.5/dist-packages/nltk/classify/decisiontree.py\u001b[0m in \u001b[0;36mtrain\u001b[0;34m(labeled_featuresets, entropy_cutoff, depth_cutoff, support_cutoff, binary, feature_values, verbose)\u001b[0m\n\u001b[1;32m    159\u001b[0m         \u001b[0;31m# Refine the stump.\u001b[0m\u001b[0;34m\u001b[0m\u001b[0;34m\u001b[0m\u001b[0m\n\u001b[1;32m    160\u001b[0m         tree.refine(labeled_featuresets, entropy_cutoff, depth_cutoff-1,\n\u001b[0;32m--> 161\u001b[0;31m                     support_cutoff, binary, feature_values, verbose)\n\u001b[0m\u001b[1;32m    162\u001b[0m \u001b[0;34m\u001b[0m\u001b[0m\n\u001b[1;32m    163\u001b[0m         \u001b[0;31m# Return it\u001b[0m\u001b[0;34m\u001b[0m\u001b[0;34m\u001b[0m\u001b[0m\n",
      "\u001b[0;32m/usr/local/lib/python3.5/dist-packages/nltk/classify/decisiontree.py\u001b[0m in \u001b[0;36mrefine\u001b[0;34m(self, labeled_featuresets, entropy_cutoff, depth_cutoff, support_cutoff, binary, feature_values, verbose)\u001b[0m\n\u001b[1;32m    201\u001b[0m                 self._decisions[fval] = DecisionTreeClassifier.train(\n\u001b[1;32m    202\u001b[0m                     \u001b[0mfval_featuresets\u001b[0m\u001b[0;34m,\u001b[0m \u001b[0mentropy_cutoff\u001b[0m\u001b[0;34m,\u001b[0m \u001b[0mdepth_cutoff\u001b[0m\u001b[0;34m,\u001b[0m\u001b[0;34m\u001b[0m\u001b[0m\n\u001b[0;32m--> 203\u001b[0;31m                     support_cutoff, binary, feature_values, verbose)\n\u001b[0m\u001b[1;32m    204\u001b[0m         \u001b[0;32mif\u001b[0m \u001b[0mself\u001b[0m\u001b[0;34m.\u001b[0m\u001b[0m_default\u001b[0m \u001b[0;32mis\u001b[0m \u001b[0;32mnot\u001b[0m \u001b[0;32mNone\u001b[0m\u001b[0;34m:\u001b[0m\u001b[0;34m\u001b[0m\u001b[0m\n\u001b[1;32m    205\u001b[0m             default_featuresets = [(featureset, label) for (featureset, label)\n",
      "\u001b[0;32m/usr/local/lib/python3.5/dist-packages/nltk/classify/decisiontree.py\u001b[0m in \u001b[0;36mtrain\u001b[0;34m(labeled_featuresets, entropy_cutoff, depth_cutoff, support_cutoff, binary, feature_values, verbose)\u001b[0m\n\u001b[1;32m    159\u001b[0m         \u001b[0;31m# Refine the stump.\u001b[0m\u001b[0;34m\u001b[0m\u001b[0;34m\u001b[0m\u001b[0m\n\u001b[1;32m    160\u001b[0m         tree.refine(labeled_featuresets, entropy_cutoff, depth_cutoff-1,\n\u001b[0;32m--> 161\u001b[0;31m                     support_cutoff, binary, feature_values, verbose)\n\u001b[0m\u001b[1;32m    162\u001b[0m \u001b[0;34m\u001b[0m\u001b[0m\n\u001b[1;32m    163\u001b[0m         \u001b[0;31m# Return it\u001b[0m\u001b[0;34m\u001b[0m\u001b[0;34m\u001b[0m\u001b[0m\n",
      "\u001b[0;32m/usr/local/lib/python3.5/dist-packages/nltk/classify/decisiontree.py\u001b[0m in \u001b[0;36mrefine\u001b[0;34m(self, labeled_featuresets, entropy_cutoff, depth_cutoff, support_cutoff, binary, feature_values, verbose)\u001b[0m\n\u001b[1;32m    201\u001b[0m                 self._decisions[fval] = DecisionTreeClassifier.train(\n\u001b[1;32m    202\u001b[0m                     \u001b[0mfval_featuresets\u001b[0m\u001b[0;34m,\u001b[0m \u001b[0mentropy_cutoff\u001b[0m\u001b[0;34m,\u001b[0m \u001b[0mdepth_cutoff\u001b[0m\u001b[0;34m,\u001b[0m\u001b[0;34m\u001b[0m\u001b[0m\n\u001b[0;32m--> 203\u001b[0;31m                     support_cutoff, binary, feature_values, verbose)\n\u001b[0m\u001b[1;32m    204\u001b[0m         \u001b[0;32mif\u001b[0m \u001b[0mself\u001b[0m\u001b[0;34m.\u001b[0m\u001b[0m_default\u001b[0m \u001b[0;32mis\u001b[0m \u001b[0;32mnot\u001b[0m \u001b[0;32mNone\u001b[0m\u001b[0;34m:\u001b[0m\u001b[0;34m\u001b[0m\u001b[0m\n\u001b[1;32m    205\u001b[0m             default_featuresets = [(featureset, label) for (featureset, label)\n",
      "\u001b[0;32m/usr/local/lib/python3.5/dist-packages/nltk/classify/decisiontree.py\u001b[0m in \u001b[0;36mtrain\u001b[0;34m(labeled_featuresets, entropy_cutoff, depth_cutoff, support_cutoff, binary, feature_values, verbose)\u001b[0m\n\u001b[1;32m    159\u001b[0m         \u001b[0;31m# Refine the stump.\u001b[0m\u001b[0;34m\u001b[0m\u001b[0;34m\u001b[0m\u001b[0m\n\u001b[1;32m    160\u001b[0m         tree.refine(labeled_featuresets, entropy_cutoff, depth_cutoff-1,\n\u001b[0;32m--> 161\u001b[0;31m                     support_cutoff, binary, feature_values, verbose)\n\u001b[0m\u001b[1;32m    162\u001b[0m \u001b[0;34m\u001b[0m\u001b[0m\n\u001b[1;32m    163\u001b[0m         \u001b[0;31m# Return it\u001b[0m\u001b[0;34m\u001b[0m\u001b[0;34m\u001b[0m\u001b[0m\n",
      "\u001b[0;32m/usr/local/lib/python3.5/dist-packages/nltk/classify/decisiontree.py\u001b[0m in \u001b[0;36mrefine\u001b[0;34m(self, labeled_featuresets, entropy_cutoff, depth_cutoff, support_cutoff, binary, feature_values, verbose)\u001b[0m\n\u001b[1;32m    201\u001b[0m                 self._decisions[fval] = DecisionTreeClassifier.train(\n\u001b[1;32m    202\u001b[0m                     \u001b[0mfval_featuresets\u001b[0m\u001b[0;34m,\u001b[0m \u001b[0mentropy_cutoff\u001b[0m\u001b[0;34m,\u001b[0m \u001b[0mdepth_cutoff\u001b[0m\u001b[0;34m,\u001b[0m\u001b[0;34m\u001b[0m\u001b[0m\n\u001b[0;32m--> 203\u001b[0;31m                     support_cutoff, binary, feature_values, verbose)\n\u001b[0m\u001b[1;32m    204\u001b[0m         \u001b[0;32mif\u001b[0m \u001b[0mself\u001b[0m\u001b[0;34m.\u001b[0m\u001b[0m_default\u001b[0m \u001b[0;32mis\u001b[0m \u001b[0;32mnot\u001b[0m \u001b[0;32mNone\u001b[0m\u001b[0;34m:\u001b[0m\u001b[0;34m\u001b[0m\u001b[0m\n\u001b[1;32m    205\u001b[0m             default_featuresets = [(featureset, label) for (featureset, label)\n",
      "\u001b[0;32m/usr/local/lib/python3.5/dist-packages/nltk/classify/decisiontree.py\u001b[0m in \u001b[0;36mtrain\u001b[0;34m(labeled_featuresets, entropy_cutoff, depth_cutoff, support_cutoff, binary, feature_values, verbose)\u001b[0m\n\u001b[1;32m    159\u001b[0m         \u001b[0;31m# Refine the stump.\u001b[0m\u001b[0;34m\u001b[0m\u001b[0;34m\u001b[0m\u001b[0m\n\u001b[1;32m    160\u001b[0m         tree.refine(labeled_featuresets, entropy_cutoff, depth_cutoff-1,\n\u001b[0;32m--> 161\u001b[0;31m                     support_cutoff, binary, feature_values, verbose)\n\u001b[0m\u001b[1;32m    162\u001b[0m \u001b[0;34m\u001b[0m\u001b[0m\n\u001b[1;32m    163\u001b[0m         \u001b[0;31m# Return it\u001b[0m\u001b[0;34m\u001b[0m\u001b[0;34m\u001b[0m\u001b[0m\n",
      "\u001b[0;32m/usr/local/lib/python3.5/dist-packages/nltk/classify/decisiontree.py\u001b[0m in \u001b[0;36mrefine\u001b[0;34m(self, labeled_featuresets, entropy_cutoff, depth_cutoff, support_cutoff, binary, feature_values, verbose)\u001b[0m\n\u001b[1;32m    201\u001b[0m                 self._decisions[fval] = DecisionTreeClassifier.train(\n\u001b[1;32m    202\u001b[0m                     \u001b[0mfval_featuresets\u001b[0m\u001b[0;34m,\u001b[0m \u001b[0mentropy_cutoff\u001b[0m\u001b[0;34m,\u001b[0m \u001b[0mdepth_cutoff\u001b[0m\u001b[0;34m,\u001b[0m\u001b[0;34m\u001b[0m\u001b[0m\n\u001b[0;32m--> 203\u001b[0;31m                     support_cutoff, binary, feature_values, verbose)\n\u001b[0m\u001b[1;32m    204\u001b[0m         \u001b[0;32mif\u001b[0m \u001b[0mself\u001b[0m\u001b[0;34m.\u001b[0m\u001b[0m_default\u001b[0m \u001b[0;32mis\u001b[0m \u001b[0;32mnot\u001b[0m \u001b[0;32mNone\u001b[0m\u001b[0;34m:\u001b[0m\u001b[0;34m\u001b[0m\u001b[0m\n\u001b[1;32m    205\u001b[0m             default_featuresets = [(featureset, label) for (featureset, label)\n",
      "\u001b[0;32m/usr/local/lib/python3.5/dist-packages/nltk/classify/decisiontree.py\u001b[0m in \u001b[0;36mtrain\u001b[0;34m(labeled_featuresets, entropy_cutoff, depth_cutoff, support_cutoff, binary, feature_values, verbose)\u001b[0m\n\u001b[1;32m    159\u001b[0m         \u001b[0;31m# Refine the stump.\u001b[0m\u001b[0;34m\u001b[0m\u001b[0;34m\u001b[0m\u001b[0m\n\u001b[1;32m    160\u001b[0m         tree.refine(labeled_featuresets, entropy_cutoff, depth_cutoff-1,\n\u001b[0;32m--> 161\u001b[0;31m                     support_cutoff, binary, feature_values, verbose)\n\u001b[0m\u001b[1;32m    162\u001b[0m \u001b[0;34m\u001b[0m\u001b[0m\n\u001b[1;32m    163\u001b[0m         \u001b[0;31m# Return it\u001b[0m\u001b[0;34m\u001b[0m\u001b[0;34m\u001b[0m\u001b[0m\n",
      "\u001b[0;32m/usr/local/lib/python3.5/dist-packages/nltk/classify/decisiontree.py\u001b[0m in \u001b[0;36mrefine\u001b[0;34m(self, labeled_featuresets, entropy_cutoff, depth_cutoff, support_cutoff, binary, feature_values, verbose)\u001b[0m\n\u001b[1;32m    201\u001b[0m                 self._decisions[fval] = DecisionTreeClassifier.train(\n\u001b[1;32m    202\u001b[0m                     \u001b[0mfval_featuresets\u001b[0m\u001b[0;34m,\u001b[0m \u001b[0mentropy_cutoff\u001b[0m\u001b[0;34m,\u001b[0m \u001b[0mdepth_cutoff\u001b[0m\u001b[0;34m,\u001b[0m\u001b[0;34m\u001b[0m\u001b[0m\n\u001b[0;32m--> 203\u001b[0;31m                     support_cutoff, binary, feature_values, verbose)\n\u001b[0m\u001b[1;32m    204\u001b[0m         \u001b[0;32mif\u001b[0m \u001b[0mself\u001b[0m\u001b[0;34m.\u001b[0m\u001b[0m_default\u001b[0m \u001b[0;32mis\u001b[0m \u001b[0;32mnot\u001b[0m \u001b[0;32mNone\u001b[0m\u001b[0;34m:\u001b[0m\u001b[0;34m\u001b[0m\u001b[0m\n\u001b[1;32m    205\u001b[0m             default_featuresets = [(featureset, label) for (featureset, label)\n",
      "\u001b[0;32m/usr/local/lib/python3.5/dist-packages/nltk/classify/decisiontree.py\u001b[0m in \u001b[0;36mtrain\u001b[0;34m(labeled_featuresets, entropy_cutoff, depth_cutoff, support_cutoff, binary, feature_values, verbose)\u001b[0m\n\u001b[1;32m    159\u001b[0m         \u001b[0;31m# Refine the stump.\u001b[0m\u001b[0;34m\u001b[0m\u001b[0;34m\u001b[0m\u001b[0m\n\u001b[1;32m    160\u001b[0m         tree.refine(labeled_featuresets, entropy_cutoff, depth_cutoff-1,\n\u001b[0;32m--> 161\u001b[0;31m                     support_cutoff, binary, feature_values, verbose)\n\u001b[0m\u001b[1;32m    162\u001b[0m \u001b[0;34m\u001b[0m\u001b[0m\n\u001b[1;32m    163\u001b[0m         \u001b[0;31m# Return it\u001b[0m\u001b[0;34m\u001b[0m\u001b[0;34m\u001b[0m\u001b[0m\n",
      "\u001b[0;32m/usr/local/lib/python3.5/dist-packages/nltk/classify/decisiontree.py\u001b[0m in \u001b[0;36mrefine\u001b[0;34m(self, labeled_featuresets, entropy_cutoff, depth_cutoff, support_cutoff, binary, feature_values, verbose)\u001b[0m\n\u001b[1;32m    201\u001b[0m                 self._decisions[fval] = DecisionTreeClassifier.train(\n\u001b[1;32m    202\u001b[0m                     \u001b[0mfval_featuresets\u001b[0m\u001b[0;34m,\u001b[0m \u001b[0mentropy_cutoff\u001b[0m\u001b[0;34m,\u001b[0m \u001b[0mdepth_cutoff\u001b[0m\u001b[0;34m,\u001b[0m\u001b[0;34m\u001b[0m\u001b[0m\n\u001b[0;32m--> 203\u001b[0;31m                     support_cutoff, binary, feature_values, verbose)\n\u001b[0m\u001b[1;32m    204\u001b[0m         \u001b[0;32mif\u001b[0m \u001b[0mself\u001b[0m\u001b[0;34m.\u001b[0m\u001b[0m_default\u001b[0m \u001b[0;32mis\u001b[0m \u001b[0;32mnot\u001b[0m \u001b[0;32mNone\u001b[0m\u001b[0;34m:\u001b[0m\u001b[0;34m\u001b[0m\u001b[0m\n\u001b[1;32m    205\u001b[0m             default_featuresets = [(featureset, label) for (featureset, label)\n",
      "\u001b[0;32m/usr/local/lib/python3.5/dist-packages/nltk/classify/decisiontree.py\u001b[0m in \u001b[0;36mtrain\u001b[0;34m(labeled_featuresets, entropy_cutoff, depth_cutoff, support_cutoff, binary, feature_values, verbose)\u001b[0m\n\u001b[1;32m    159\u001b[0m         \u001b[0;31m# Refine the stump.\u001b[0m\u001b[0;34m\u001b[0m\u001b[0;34m\u001b[0m\u001b[0m\n\u001b[1;32m    160\u001b[0m         tree.refine(labeled_featuresets, entropy_cutoff, depth_cutoff-1,\n\u001b[0;32m--> 161\u001b[0;31m                     support_cutoff, binary, feature_values, verbose)\n\u001b[0m\u001b[1;32m    162\u001b[0m \u001b[0;34m\u001b[0m\u001b[0m\n\u001b[1;32m    163\u001b[0m         \u001b[0;31m# Return it\u001b[0m\u001b[0;34m\u001b[0m\u001b[0;34m\u001b[0m\u001b[0m\n",
      "\u001b[0;32m/usr/local/lib/python3.5/dist-packages/nltk/classify/decisiontree.py\u001b[0m in \u001b[0;36mrefine\u001b[0;34m(self, labeled_featuresets, entropy_cutoff, depth_cutoff, support_cutoff, binary, feature_values, verbose)\u001b[0m\n\u001b[1;32m    201\u001b[0m                 self._decisions[fval] = DecisionTreeClassifier.train(\n\u001b[1;32m    202\u001b[0m                     \u001b[0mfval_featuresets\u001b[0m\u001b[0;34m,\u001b[0m \u001b[0mentropy_cutoff\u001b[0m\u001b[0;34m,\u001b[0m \u001b[0mdepth_cutoff\u001b[0m\u001b[0;34m,\u001b[0m\u001b[0;34m\u001b[0m\u001b[0m\n\u001b[0;32m--> 203\u001b[0;31m                     support_cutoff, binary, feature_values, verbose)\n\u001b[0m\u001b[1;32m    204\u001b[0m         \u001b[0;32mif\u001b[0m \u001b[0mself\u001b[0m\u001b[0;34m.\u001b[0m\u001b[0m_default\u001b[0m \u001b[0;32mis\u001b[0m \u001b[0;32mnot\u001b[0m \u001b[0;32mNone\u001b[0m\u001b[0;34m:\u001b[0m\u001b[0;34m\u001b[0m\u001b[0m\n\u001b[1;32m    205\u001b[0m             default_featuresets = [(featureset, label) for (featureset, label)\n",
      "\u001b[0;32m/usr/local/lib/python3.5/dist-packages/nltk/classify/decisiontree.py\u001b[0m in \u001b[0;36mtrain\u001b[0;34m(labeled_featuresets, entropy_cutoff, depth_cutoff, support_cutoff, binary, feature_values, verbose)\u001b[0m\n\u001b[1;32m    159\u001b[0m         \u001b[0;31m# Refine the stump.\u001b[0m\u001b[0;34m\u001b[0m\u001b[0;34m\u001b[0m\u001b[0m\n\u001b[1;32m    160\u001b[0m         tree.refine(labeled_featuresets, entropy_cutoff, depth_cutoff-1,\n\u001b[0;32m--> 161\u001b[0;31m                     support_cutoff, binary, feature_values, verbose)\n\u001b[0m\u001b[1;32m    162\u001b[0m \u001b[0;34m\u001b[0m\u001b[0m\n\u001b[1;32m    163\u001b[0m         \u001b[0;31m# Return it\u001b[0m\u001b[0;34m\u001b[0m\u001b[0;34m\u001b[0m\u001b[0m\n",
      "\u001b[0;32m/usr/local/lib/python3.5/dist-packages/nltk/classify/decisiontree.py\u001b[0m in \u001b[0;36mrefine\u001b[0;34m(self, labeled_featuresets, entropy_cutoff, depth_cutoff, support_cutoff, binary, feature_values, verbose)\u001b[0m\n\u001b[1;32m    201\u001b[0m                 self._decisions[fval] = DecisionTreeClassifier.train(\n\u001b[1;32m    202\u001b[0m                     \u001b[0mfval_featuresets\u001b[0m\u001b[0;34m,\u001b[0m \u001b[0mentropy_cutoff\u001b[0m\u001b[0;34m,\u001b[0m \u001b[0mdepth_cutoff\u001b[0m\u001b[0;34m,\u001b[0m\u001b[0;34m\u001b[0m\u001b[0m\n\u001b[0;32m--> 203\u001b[0;31m                     support_cutoff, binary, feature_values, verbose)\n\u001b[0m\u001b[1;32m    204\u001b[0m         \u001b[0;32mif\u001b[0m \u001b[0mself\u001b[0m\u001b[0;34m.\u001b[0m\u001b[0m_default\u001b[0m \u001b[0;32mis\u001b[0m \u001b[0;32mnot\u001b[0m \u001b[0;32mNone\u001b[0m\u001b[0;34m:\u001b[0m\u001b[0;34m\u001b[0m\u001b[0m\n\u001b[1;32m    205\u001b[0m             default_featuresets = [(featureset, label) for (featureset, label)\n",
      "\u001b[0;32m/usr/local/lib/python3.5/dist-packages/nltk/classify/decisiontree.py\u001b[0m in \u001b[0;36mtrain\u001b[0;34m(labeled_featuresets, entropy_cutoff, depth_cutoff, support_cutoff, binary, feature_values, verbose)\u001b[0m\n\u001b[1;32m    159\u001b[0m         \u001b[0;31m# Refine the stump.\u001b[0m\u001b[0;34m\u001b[0m\u001b[0;34m\u001b[0m\u001b[0m\n\u001b[1;32m    160\u001b[0m         tree.refine(labeled_featuresets, entropy_cutoff, depth_cutoff-1,\n\u001b[0;32m--> 161\u001b[0;31m                     support_cutoff, binary, feature_values, verbose)\n\u001b[0m\u001b[1;32m    162\u001b[0m \u001b[0;34m\u001b[0m\u001b[0m\n\u001b[1;32m    163\u001b[0m         \u001b[0;31m# Return it\u001b[0m\u001b[0;34m\u001b[0m\u001b[0;34m\u001b[0m\u001b[0m\n",
      "\u001b[0;32m/usr/local/lib/python3.5/dist-packages/nltk/classify/decisiontree.py\u001b[0m in \u001b[0;36mrefine\u001b[0;34m(self, labeled_featuresets, entropy_cutoff, depth_cutoff, support_cutoff, binary, feature_values, verbose)\u001b[0m\n\u001b[1;32m    201\u001b[0m                 self._decisions[fval] = DecisionTreeClassifier.train(\n\u001b[1;32m    202\u001b[0m                     \u001b[0mfval_featuresets\u001b[0m\u001b[0;34m,\u001b[0m \u001b[0mentropy_cutoff\u001b[0m\u001b[0;34m,\u001b[0m \u001b[0mdepth_cutoff\u001b[0m\u001b[0;34m,\u001b[0m\u001b[0;34m\u001b[0m\u001b[0m\n\u001b[0;32m--> 203\u001b[0;31m                     support_cutoff, binary, feature_values, verbose)\n\u001b[0m\u001b[1;32m    204\u001b[0m         \u001b[0;32mif\u001b[0m \u001b[0mself\u001b[0m\u001b[0;34m.\u001b[0m\u001b[0m_default\u001b[0m \u001b[0;32mis\u001b[0m \u001b[0;32mnot\u001b[0m \u001b[0;32mNone\u001b[0m\u001b[0;34m:\u001b[0m\u001b[0;34m\u001b[0m\u001b[0m\n\u001b[1;32m    205\u001b[0m             default_featuresets = [(featureset, label) for (featureset, label)\n",
      "\u001b[0;32m/usr/local/lib/python3.5/dist-packages/nltk/classify/decisiontree.py\u001b[0m in \u001b[0;36mtrain\u001b[0;34m(labeled_featuresets, entropy_cutoff, depth_cutoff, support_cutoff, binary, feature_values, verbose)\u001b[0m\n\u001b[1;32m    159\u001b[0m         \u001b[0;31m# Refine the stump.\u001b[0m\u001b[0;34m\u001b[0m\u001b[0;34m\u001b[0m\u001b[0m\n\u001b[1;32m    160\u001b[0m         tree.refine(labeled_featuresets, entropy_cutoff, depth_cutoff-1,\n\u001b[0;32m--> 161\u001b[0;31m                     support_cutoff, binary, feature_values, verbose)\n\u001b[0m\u001b[1;32m    162\u001b[0m \u001b[0;34m\u001b[0m\u001b[0m\n\u001b[1;32m    163\u001b[0m         \u001b[0;31m# Return it\u001b[0m\u001b[0;34m\u001b[0m\u001b[0;34m\u001b[0m\u001b[0m\n",
      "\u001b[0;32m/usr/local/lib/python3.5/dist-packages/nltk/classify/decisiontree.py\u001b[0m in \u001b[0;36mrefine\u001b[0;34m(self, labeled_featuresets, entropy_cutoff, depth_cutoff, support_cutoff, binary, feature_values, verbose)\u001b[0m\n\u001b[1;32m    201\u001b[0m                 self._decisions[fval] = DecisionTreeClassifier.train(\n\u001b[1;32m    202\u001b[0m                     \u001b[0mfval_featuresets\u001b[0m\u001b[0;34m,\u001b[0m \u001b[0mentropy_cutoff\u001b[0m\u001b[0;34m,\u001b[0m \u001b[0mdepth_cutoff\u001b[0m\u001b[0;34m,\u001b[0m\u001b[0;34m\u001b[0m\u001b[0m\n\u001b[0;32m--> 203\u001b[0;31m                     support_cutoff, binary, feature_values, verbose)\n\u001b[0m\u001b[1;32m    204\u001b[0m         \u001b[0;32mif\u001b[0m \u001b[0mself\u001b[0m\u001b[0;34m.\u001b[0m\u001b[0m_default\u001b[0m \u001b[0;32mis\u001b[0m \u001b[0;32mnot\u001b[0m \u001b[0;32mNone\u001b[0m\u001b[0;34m:\u001b[0m\u001b[0;34m\u001b[0m\u001b[0m\n\u001b[1;32m    205\u001b[0m             default_featuresets = [(featureset, label) for (featureset, label)\n",
      "\u001b[0;32m/usr/local/lib/python3.5/dist-packages/nltk/classify/decisiontree.py\u001b[0m in \u001b[0;36mtrain\u001b[0;34m(labeled_featuresets, entropy_cutoff, depth_cutoff, support_cutoff, binary, feature_values, verbose)\u001b[0m\n\u001b[1;32m    159\u001b[0m         \u001b[0;31m# Refine the stump.\u001b[0m\u001b[0;34m\u001b[0m\u001b[0;34m\u001b[0m\u001b[0m\n\u001b[1;32m    160\u001b[0m         tree.refine(labeled_featuresets, entropy_cutoff, depth_cutoff-1,\n\u001b[0;32m--> 161\u001b[0;31m                     support_cutoff, binary, feature_values, verbose)\n\u001b[0m\u001b[1;32m    162\u001b[0m \u001b[0;34m\u001b[0m\u001b[0m\n\u001b[1;32m    163\u001b[0m         \u001b[0;31m# Return it\u001b[0m\u001b[0;34m\u001b[0m\u001b[0;34m\u001b[0m\u001b[0m\n",
      "\u001b[0;32m/usr/local/lib/python3.5/dist-packages/nltk/classify/decisiontree.py\u001b[0m in \u001b[0;36mrefine\u001b[0;34m(self, labeled_featuresets, entropy_cutoff, depth_cutoff, support_cutoff, binary, feature_values, verbose)\u001b[0m\n\u001b[1;32m    201\u001b[0m                 self._decisions[fval] = DecisionTreeClassifier.train(\n\u001b[1;32m    202\u001b[0m                     \u001b[0mfval_featuresets\u001b[0m\u001b[0;34m,\u001b[0m \u001b[0mentropy_cutoff\u001b[0m\u001b[0;34m,\u001b[0m \u001b[0mdepth_cutoff\u001b[0m\u001b[0;34m,\u001b[0m\u001b[0;34m\u001b[0m\u001b[0m\n\u001b[0;32m--> 203\u001b[0;31m                     support_cutoff, binary, feature_values, verbose)\n\u001b[0m\u001b[1;32m    204\u001b[0m         \u001b[0;32mif\u001b[0m \u001b[0mself\u001b[0m\u001b[0;34m.\u001b[0m\u001b[0m_default\u001b[0m \u001b[0;32mis\u001b[0m \u001b[0;32mnot\u001b[0m \u001b[0;32mNone\u001b[0m\u001b[0;34m:\u001b[0m\u001b[0;34m\u001b[0m\u001b[0m\n\u001b[1;32m    205\u001b[0m             default_featuresets = [(featureset, label) for (featureset, label)\n",
      "\u001b[0;32m/usr/local/lib/python3.5/dist-packages/nltk/classify/decisiontree.py\u001b[0m in \u001b[0;36mtrain\u001b[0;34m(labeled_featuresets, entropy_cutoff, depth_cutoff, support_cutoff, binary, feature_values, verbose)\u001b[0m\n\u001b[1;32m    159\u001b[0m         \u001b[0;31m# Refine the stump.\u001b[0m\u001b[0;34m\u001b[0m\u001b[0;34m\u001b[0m\u001b[0m\n\u001b[1;32m    160\u001b[0m         tree.refine(labeled_featuresets, entropy_cutoff, depth_cutoff-1,\n\u001b[0;32m--> 161\u001b[0;31m                     support_cutoff, binary, feature_values, verbose)\n\u001b[0m\u001b[1;32m    162\u001b[0m \u001b[0;34m\u001b[0m\u001b[0m\n\u001b[1;32m    163\u001b[0m         \u001b[0;31m# Return it\u001b[0m\u001b[0;34m\u001b[0m\u001b[0;34m\u001b[0m\u001b[0m\n",
      "\u001b[0;32m/usr/local/lib/python3.5/dist-packages/nltk/classify/decisiontree.py\u001b[0m in \u001b[0;36mrefine\u001b[0;34m(self, labeled_featuresets, entropy_cutoff, depth_cutoff, support_cutoff, binary, feature_values, verbose)\u001b[0m\n\u001b[1;32m    201\u001b[0m                 self._decisions[fval] = DecisionTreeClassifier.train(\n\u001b[1;32m    202\u001b[0m                     \u001b[0mfval_featuresets\u001b[0m\u001b[0;34m,\u001b[0m \u001b[0mentropy_cutoff\u001b[0m\u001b[0;34m,\u001b[0m \u001b[0mdepth_cutoff\u001b[0m\u001b[0;34m,\u001b[0m\u001b[0;34m\u001b[0m\u001b[0m\n\u001b[0;32m--> 203\u001b[0;31m                     support_cutoff, binary, feature_values, verbose)\n\u001b[0m\u001b[1;32m    204\u001b[0m         \u001b[0;32mif\u001b[0m \u001b[0mself\u001b[0m\u001b[0;34m.\u001b[0m\u001b[0m_default\u001b[0m \u001b[0;32mis\u001b[0m \u001b[0;32mnot\u001b[0m \u001b[0;32mNone\u001b[0m\u001b[0;34m:\u001b[0m\u001b[0;34m\u001b[0m\u001b[0m\n\u001b[1;32m    205\u001b[0m             default_featuresets = [(featureset, label) for (featureset, label)\n",
      "\u001b[0;32m/usr/local/lib/python3.5/dist-packages/nltk/classify/decisiontree.py\u001b[0m in \u001b[0;36mtrain\u001b[0;34m(labeled_featuresets, entropy_cutoff, depth_cutoff, support_cutoff, binary, feature_values, verbose)\u001b[0m\n\u001b[1;32m    159\u001b[0m         \u001b[0;31m# Refine the stump.\u001b[0m\u001b[0;34m\u001b[0m\u001b[0;34m\u001b[0m\u001b[0m\n\u001b[1;32m    160\u001b[0m         tree.refine(labeled_featuresets, entropy_cutoff, depth_cutoff-1,\n\u001b[0;32m--> 161\u001b[0;31m                     support_cutoff, binary, feature_values, verbose)\n\u001b[0m\u001b[1;32m    162\u001b[0m \u001b[0;34m\u001b[0m\u001b[0m\n\u001b[1;32m    163\u001b[0m         \u001b[0;31m# Return it\u001b[0m\u001b[0;34m\u001b[0m\u001b[0;34m\u001b[0m\u001b[0m\n",
      "\u001b[0;32m/usr/local/lib/python3.5/dist-packages/nltk/classify/decisiontree.py\u001b[0m in \u001b[0;36mrefine\u001b[0;34m(self, labeled_featuresets, entropy_cutoff, depth_cutoff, support_cutoff, binary, feature_values, verbose)\u001b[0m\n\u001b[1;32m    201\u001b[0m                 self._decisions[fval] = DecisionTreeClassifier.train(\n\u001b[1;32m    202\u001b[0m                     \u001b[0mfval_featuresets\u001b[0m\u001b[0;34m,\u001b[0m \u001b[0mentropy_cutoff\u001b[0m\u001b[0;34m,\u001b[0m \u001b[0mdepth_cutoff\u001b[0m\u001b[0;34m,\u001b[0m\u001b[0;34m\u001b[0m\u001b[0m\n\u001b[0;32m--> 203\u001b[0;31m                     support_cutoff, binary, feature_values, verbose)\n\u001b[0m\u001b[1;32m    204\u001b[0m         \u001b[0;32mif\u001b[0m \u001b[0mself\u001b[0m\u001b[0;34m.\u001b[0m\u001b[0m_default\u001b[0m \u001b[0;32mis\u001b[0m \u001b[0;32mnot\u001b[0m \u001b[0;32mNone\u001b[0m\u001b[0;34m:\u001b[0m\u001b[0;34m\u001b[0m\u001b[0m\n\u001b[1;32m    205\u001b[0m             default_featuresets = [(featureset, label) for (featureset, label)\n",
      "\u001b[0;32m/usr/local/lib/python3.5/dist-packages/nltk/classify/decisiontree.py\u001b[0m in \u001b[0;36mtrain\u001b[0;34m(labeled_featuresets, entropy_cutoff, depth_cutoff, support_cutoff, binary, feature_values, verbose)\u001b[0m\n\u001b[1;32m    159\u001b[0m         \u001b[0;31m# Refine the stump.\u001b[0m\u001b[0;34m\u001b[0m\u001b[0;34m\u001b[0m\u001b[0m\n\u001b[1;32m    160\u001b[0m         tree.refine(labeled_featuresets, entropy_cutoff, depth_cutoff-1,\n\u001b[0;32m--> 161\u001b[0;31m                     support_cutoff, binary, feature_values, verbose)\n\u001b[0m\u001b[1;32m    162\u001b[0m \u001b[0;34m\u001b[0m\u001b[0m\n\u001b[1;32m    163\u001b[0m         \u001b[0;31m# Return it\u001b[0m\u001b[0;34m\u001b[0m\u001b[0;34m\u001b[0m\u001b[0m\n",
      "\u001b[0;32m/usr/local/lib/python3.5/dist-packages/nltk/classify/decisiontree.py\u001b[0m in \u001b[0;36mrefine\u001b[0;34m(self, labeled_featuresets, entropy_cutoff, depth_cutoff, support_cutoff, binary, feature_values, verbose)\u001b[0m\n\u001b[1;32m    201\u001b[0m                 self._decisions[fval] = DecisionTreeClassifier.train(\n\u001b[1;32m    202\u001b[0m                     \u001b[0mfval_featuresets\u001b[0m\u001b[0;34m,\u001b[0m \u001b[0mentropy_cutoff\u001b[0m\u001b[0;34m,\u001b[0m \u001b[0mdepth_cutoff\u001b[0m\u001b[0;34m,\u001b[0m\u001b[0;34m\u001b[0m\u001b[0m\n\u001b[0;32m--> 203\u001b[0;31m                     support_cutoff, binary, feature_values, verbose)\n\u001b[0m\u001b[1;32m    204\u001b[0m         \u001b[0;32mif\u001b[0m \u001b[0mself\u001b[0m\u001b[0;34m.\u001b[0m\u001b[0m_default\u001b[0m \u001b[0;32mis\u001b[0m \u001b[0;32mnot\u001b[0m \u001b[0;32mNone\u001b[0m\u001b[0;34m:\u001b[0m\u001b[0;34m\u001b[0m\u001b[0m\n\u001b[1;32m    205\u001b[0m             default_featuresets = [(featureset, label) for (featureset, label)\n",
      "\u001b[0;32m/usr/local/lib/python3.5/dist-packages/nltk/classify/decisiontree.py\u001b[0m in \u001b[0;36mtrain\u001b[0;34m(labeled_featuresets, entropy_cutoff, depth_cutoff, support_cutoff, binary, feature_values, verbose)\u001b[0m\n\u001b[1;32m    152\u001b[0m         \u001b[0;32mif\u001b[0m \u001b[0;32mnot\u001b[0m \u001b[0mbinary\u001b[0m\u001b[0;34m:\u001b[0m\u001b[0;34m\u001b[0m\u001b[0m\n\u001b[1;32m    153\u001b[0m             tree = DecisionTreeClassifier.best_stump(\n\u001b[0;32m--> 154\u001b[0;31m                 feature_names, labeled_featuresets, verbose)\n\u001b[0m\u001b[1;32m    155\u001b[0m         \u001b[0;32melse\u001b[0m\u001b[0;34m:\u001b[0m\u001b[0;34m\u001b[0m\u001b[0m\n\u001b[1;32m    156\u001b[0m             tree = DecisionTreeClassifier.best_binary_stump(\n",
      "\u001b[0;32m/usr/local/lib/python3.5/dist-packages/nltk/classify/decisiontree.py\u001b[0m in \u001b[0;36mbest_stump\u001b[0;34m(feature_names, labeled_featuresets, verbose)\u001b[0m\n\u001b[1;32m    219\u001b[0m         \u001b[0mbest_error\u001b[0m \u001b[0;34m=\u001b[0m \u001b[0mbest_stump\u001b[0m\u001b[0;34m.\u001b[0m\u001b[0merror\u001b[0m\u001b[0;34m(\u001b[0m\u001b[0mlabeled_featuresets\u001b[0m\u001b[0;34m)\u001b[0m\u001b[0;34m\u001b[0m\u001b[0m\n\u001b[1;32m    220\u001b[0m         \u001b[0;32mfor\u001b[0m \u001b[0mfname\u001b[0m \u001b[0;32min\u001b[0m \u001b[0mfeature_names\u001b[0m\u001b[0;34m:\u001b[0m\u001b[0;34m\u001b[0m\u001b[0m\n\u001b[0;32m--> 221\u001b[0;31m             \u001b[0mstump\u001b[0m \u001b[0;34m=\u001b[0m \u001b[0mDecisionTreeClassifier\u001b[0m\u001b[0;34m.\u001b[0m\u001b[0mstump\u001b[0m\u001b[0;34m(\u001b[0m\u001b[0mfname\u001b[0m\u001b[0;34m,\u001b[0m \u001b[0mlabeled_featuresets\u001b[0m\u001b[0;34m)\u001b[0m\u001b[0;34m\u001b[0m\u001b[0m\n\u001b[0m\u001b[1;32m    222\u001b[0m             \u001b[0mstump_error\u001b[0m \u001b[0;34m=\u001b[0m \u001b[0mstump\u001b[0m\u001b[0;34m.\u001b[0m\u001b[0merror\u001b[0m\u001b[0;34m(\u001b[0m\u001b[0mlabeled_featuresets\u001b[0m\u001b[0;34m)\u001b[0m\u001b[0;34m\u001b[0m\u001b[0m\n\u001b[1;32m    223\u001b[0m             \u001b[0;32mif\u001b[0m \u001b[0mstump_error\u001b[0m \u001b[0;34m<\u001b[0m \u001b[0mbest_error\u001b[0m\u001b[0;34m:\u001b[0m\u001b[0;34m\u001b[0m\u001b[0m\n",
      "\u001b[0;32m/usr/local/lib/python3.5/dist-packages/nltk/classify/decisiontree.py\u001b[0m in \u001b[0;36mstump\u001b[0;34m(feature_name, labeled_featuresets)\u001b[0m\n\u001b[1;32m    173\u001b[0m     \u001b[0;32mdef\u001b[0m \u001b[0mstump\u001b[0m\u001b[0;34m(\u001b[0m\u001b[0mfeature_name\u001b[0m\u001b[0;34m,\u001b[0m \u001b[0mlabeled_featuresets\u001b[0m\u001b[0;34m)\u001b[0m\u001b[0;34m:\u001b[0m\u001b[0;34m\u001b[0m\u001b[0m\n\u001b[1;32m    174\u001b[0m         label = FreqDist(label for (featureset, label)\n\u001b[0;32m--> 175\u001b[0;31m                          in labeled_featuresets).max()\n\u001b[0m\u001b[1;32m    176\u001b[0m \u001b[0;34m\u001b[0m\u001b[0m\n\u001b[1;32m    177\u001b[0m         \u001b[0;31m# Find the best label for each value.\u001b[0m\u001b[0;34m\u001b[0m\u001b[0;34m\u001b[0m\u001b[0m\n",
      "\u001b[0;32m/usr/local/lib/python3.5/dist-packages/nltk/probability.py\u001b[0m in \u001b[0;36m__init__\u001b[0;34m(self, samples)\u001b[0m\n\u001b[1;32m    106\u001b[0m         \u001b[0;34m:\u001b[0m\u001b[0mtype\u001b[0m \u001b[0msamples\u001b[0m\u001b[0;34m:\u001b[0m \u001b[0mSequence\u001b[0m\u001b[0;34m\u001b[0m\u001b[0m\n\u001b[1;32m    107\u001b[0m         \"\"\"\n\u001b[0;32m--> 108\u001b[0;31m         \u001b[0mCounter\u001b[0m\u001b[0;34m.\u001b[0m\u001b[0m__init__\u001b[0m\u001b[0;34m(\u001b[0m\u001b[0mself\u001b[0m\u001b[0;34m,\u001b[0m \u001b[0msamples\u001b[0m\u001b[0;34m)\u001b[0m\u001b[0;34m\u001b[0m\u001b[0m\n\u001b[0m\u001b[1;32m    109\u001b[0m \u001b[0;34m\u001b[0m\u001b[0m\n\u001b[1;32m    110\u001b[0m         \u001b[0;31m# Cached number of samples in this FreqDist\u001b[0m\u001b[0;34m\u001b[0m\u001b[0;34m\u001b[0m\u001b[0m\n",
      "\u001b[0;32m/usr/lib/python3.5/collections/__init__.py\u001b[0m in \u001b[0;36m__init__\u001b[0;34m(*args, **kwds)\u001b[0m\n\u001b[1;32m    528\u001b[0m             \u001b[0;32mraise\u001b[0m \u001b[0mTypeError\u001b[0m\u001b[0;34m(\u001b[0m\u001b[0;34m'expected at most 1 arguments, got %d'\u001b[0m \u001b[0;34m%\u001b[0m \u001b[0mlen\u001b[0m\u001b[0;34m(\u001b[0m\u001b[0margs\u001b[0m\u001b[0;34m)\u001b[0m\u001b[0;34m)\u001b[0m\u001b[0;34m\u001b[0m\u001b[0m\n\u001b[1;32m    529\u001b[0m         \u001b[0msuper\u001b[0m\u001b[0;34m(\u001b[0m\u001b[0mCounter\u001b[0m\u001b[0;34m,\u001b[0m \u001b[0mself\u001b[0m\u001b[0;34m)\u001b[0m\u001b[0;34m.\u001b[0m\u001b[0m__init__\u001b[0m\u001b[0;34m(\u001b[0m\u001b[0;34m)\u001b[0m\u001b[0;34m\u001b[0m\u001b[0m\n\u001b[0;32m--> 530\u001b[0;31m         \u001b[0mself\u001b[0m\u001b[0;34m.\u001b[0m\u001b[0mupdate\u001b[0m\u001b[0;34m(\u001b[0m\u001b[0;34m*\u001b[0m\u001b[0margs\u001b[0m\u001b[0;34m,\u001b[0m \u001b[0;34m**\u001b[0m\u001b[0mkwds\u001b[0m\u001b[0;34m)\u001b[0m\u001b[0;34m\u001b[0m\u001b[0m\n\u001b[0m\u001b[1;32m    531\u001b[0m \u001b[0;34m\u001b[0m\u001b[0m\n\u001b[1;32m    532\u001b[0m     \u001b[0;32mdef\u001b[0m \u001b[0m__missing__\u001b[0m\u001b[0;34m(\u001b[0m\u001b[0mself\u001b[0m\u001b[0;34m,\u001b[0m \u001b[0mkey\u001b[0m\u001b[0;34m)\u001b[0m\u001b[0;34m:\u001b[0m\u001b[0;34m\u001b[0m\u001b[0m\n",
      "\u001b[0;32m/usr/local/lib/python3.5/dist-packages/nltk/probability.py\u001b[0m in \u001b[0;36mupdate\u001b[0;34m(self, *args, **kwargs)\u001b[0m\n\u001b[1;32m    144\u001b[0m         \"\"\"\n\u001b[1;32m    145\u001b[0m         \u001b[0mself\u001b[0m\u001b[0;34m.\u001b[0m\u001b[0m_N\u001b[0m \u001b[0;34m=\u001b[0m \u001b[0;32mNone\u001b[0m\u001b[0;34m\u001b[0m\u001b[0m\n\u001b[0;32m--> 146\u001b[0;31m         \u001b[0msuper\u001b[0m\u001b[0;34m(\u001b[0m\u001b[0mFreqDist\u001b[0m\u001b[0;34m,\u001b[0m \u001b[0mself\u001b[0m\u001b[0;34m)\u001b[0m\u001b[0;34m.\u001b[0m\u001b[0mupdate\u001b[0m\u001b[0;34m(\u001b[0m\u001b[0;34m*\u001b[0m\u001b[0margs\u001b[0m\u001b[0;34m,\u001b[0m \u001b[0;34m**\u001b[0m\u001b[0mkwargs\u001b[0m\u001b[0;34m)\u001b[0m\u001b[0;34m\u001b[0m\u001b[0m\n\u001b[0m\u001b[1;32m    147\u001b[0m \u001b[0;34m\u001b[0m\u001b[0m\n\u001b[1;32m    148\u001b[0m     \u001b[0;32mdef\u001b[0m \u001b[0msetdefault\u001b[0m\u001b[0;34m(\u001b[0m\u001b[0mself\u001b[0m\u001b[0;34m,\u001b[0m \u001b[0mkey\u001b[0m\u001b[0;34m,\u001b[0m \u001b[0mval\u001b[0m\u001b[0;34m)\u001b[0m\u001b[0;34m:\u001b[0m\u001b[0;34m\u001b[0m\u001b[0m\n",
      "\u001b[0;32m/usr/lib/python3.5/collections/__init__.py\u001b[0m in \u001b[0;36mupdate\u001b[0;34m(*args, **kwds)\u001b[0m\n\u001b[1;32m    615\u001b[0m                     \u001b[0msuper\u001b[0m\u001b[0;34m(\u001b[0m\u001b[0mCounter\u001b[0m\u001b[0;34m,\u001b[0m \u001b[0mself\u001b[0m\u001b[0;34m)\u001b[0m\u001b[0;34m.\u001b[0m\u001b[0mupdate\u001b[0m\u001b[0;34m(\u001b[0m\u001b[0miterable\u001b[0m\u001b[0;34m)\u001b[0m \u001b[0;31m# fast path when counter is empty\u001b[0m\u001b[0;34m\u001b[0m\u001b[0m\n\u001b[1;32m    616\u001b[0m             \u001b[0;32melse\u001b[0m\u001b[0;34m:\u001b[0m\u001b[0;34m\u001b[0m\u001b[0m\n\u001b[0;32m--> 617\u001b[0;31m                 \u001b[0m_count_elements\u001b[0m\u001b[0;34m(\u001b[0m\u001b[0mself\u001b[0m\u001b[0;34m,\u001b[0m \u001b[0miterable\u001b[0m\u001b[0;34m)\u001b[0m\u001b[0;34m\u001b[0m\u001b[0m\n\u001b[0m\u001b[1;32m    618\u001b[0m         \u001b[0;32mif\u001b[0m \u001b[0mkwds\u001b[0m\u001b[0;34m:\u001b[0m\u001b[0;34m\u001b[0m\u001b[0m\n\u001b[1;32m    619\u001b[0m             \u001b[0mself\u001b[0m\u001b[0;34m.\u001b[0m\u001b[0mupdate\u001b[0m\u001b[0;34m(\u001b[0m\u001b[0mkwds\u001b[0m\u001b[0;34m)\u001b[0m\u001b[0;34m\u001b[0m\u001b[0m\n",
      "\u001b[0;32m/usr/local/lib/python3.5/dist-packages/nltk/classify/decisiontree.py\u001b[0m in \u001b[0;36m<genexpr>\u001b[0;34m(.0)\u001b[0m\n\u001b[1;32m    172\u001b[0m     \u001b[0;34m@\u001b[0m\u001b[0mstaticmethod\u001b[0m\u001b[0;34m\u001b[0m\u001b[0m\n\u001b[1;32m    173\u001b[0m     \u001b[0;32mdef\u001b[0m \u001b[0mstump\u001b[0m\u001b[0;34m(\u001b[0m\u001b[0mfeature_name\u001b[0m\u001b[0;34m,\u001b[0m \u001b[0mlabeled_featuresets\u001b[0m\u001b[0;34m)\u001b[0m\u001b[0;34m:\u001b[0m\u001b[0;34m\u001b[0m\u001b[0m\n\u001b[0;32m--> 174\u001b[0;31m         label = FreqDist(label for (featureset, label)\n\u001b[0m\u001b[1;32m    175\u001b[0m                          in labeled_featuresets).max()\n\u001b[1;32m    176\u001b[0m \u001b[0;34m\u001b[0m\u001b[0m\n",
      "\u001b[0;31mKeyboardInterrupt\u001b[0m: "
     ]
    }
   ],
   "source": [
    "classifier = nltk.DecisionTreeClassifier.train(train_set)\n",
    "nltk.classify.accuracy(classifier, test_set)"
   ]
  },
  {
   "cell_type": "code",
   "execution_count": null,
   "metadata": {},
   "outputs": [],
   "source": []
  }
 ],
 "metadata": {
  "kernelspec": {
   "display_name": "Python 3",
   "language": "python",
   "name": "python3"
  },
  "language_info": {
   "codemirror_mode": {
    "name": "ipython",
    "version": 3
   },
   "file_extension": ".py",
   "mimetype": "text/x-python",
   "name": "python",
   "nbconvert_exporter": "python",
   "pygments_lexer": "ipython3",
   "version": "3.5.2"
  }
 },
 "nbformat": 4,
 "nbformat_minor": 2
}
